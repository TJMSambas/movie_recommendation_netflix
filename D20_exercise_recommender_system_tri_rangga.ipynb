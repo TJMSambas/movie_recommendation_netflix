{
 "cells": [
  {
   "cell_type": "markdown",
   "metadata": {},
   "source": [
    "# <center> Recommender Systems\n",
    "## <center> Collaborative Filtering; Content Based; Hybrid System\n",
    "    \n",
    "Here in this notebook, we would like to create a recommender system based on dataset found [here](https://grouplens.org/datasets/movielens/). It is categorized as a small dataset with the detail of 100,000 ratings and 3,600 tag applications which are applied to 9,000 movies by 600 users.\n",
    "\n",
    "In this notebook, we also implemented a couple of methods in recommender systems such as Apriori Algorithm, Collaborative Filtering, Content-Based Filtering, and Hybrid Modeling.\n",
    "    \n",
    "    Author: Tri Juliansyah Muharam Sambas; Rangga Pratama\n",
    "    Date: 15th November 2019"
   ]
  },
  {
   "cell_type": "markdown",
   "metadata": {},
   "source": [
    "## Outline\n",
    "- TLDR; Executive Summary\n",
    "- Importing Libraries\n",
    "- Importing Dataset\n",
    "    * Data Preprocessing\n",
    "        - Data Cleaning\n",
    "        - Data Encoding\n",
    "- Exploratory Data Analysis\n",
    "- Modeling & Simulation\n",
    "    * Apriori Modeling\n",
    "    * Collaborative Filtering\n",
    "        - Dataset Splitting\n",
    "        - User-Based\n",
    "        - Item-Based\n",
    "        - Singular Value Decomposition\n",
    "    * Content-Based Filtering\n",
    "    * Hybrid Modeling"
   ]
  },
  {
   "cell_type": "markdown",
   "metadata": {},
   "source": [
    "## TLDR; Executive Summary"
   ]
  },
  {
   "cell_type": "markdown",
   "metadata": {},
   "source": [
    "Here are the highlighted points on the analysis:\n",
    "- In this notebook, we created a movie recommender system for each user based on their previous historical rated movies or their neighbor users (choosing either one of them and depend on the method).\n",
    "- We discuss 4 methods of recommender system,\n",
    "    * Apriori Model (useful for finding similar type of movies that have been seen before)\n",
    "    * Collaborative Filtering (useful for predicting users rating on each movie)\n",
    "    * Content-Based Filtering (useful for suggesting movies based on historical seen movies)\n",
    "    * Hybrid Modeling (combination of collaborative and content-based filtering, to optimize the recommendations)\n",
    "- On Collaborative Filtering methods, we discuss three basic methods, User-based, Item-based, and Singular value Decomposition. The **SVD method came out as the best method with RMSE 2.992** beating the other two with **more than 3 points of RMSE**.\n",
    "- The minimum RMSE on SVD method is reached when we implement the parameter **k = 10**.\n",
    "- On the Content-Based method, we **collected external data** from previous practice in which **additional information** regarding each movie are available such as **director, rating, facebook likes, actor likes and etc.** Using these information, we could produce the clusters of each movie and generate the prediction for a specific user.\n",
    "- Further, we also consider the suggested movies to be as close as possible to the chosen cluster. Therefore, the suggestions are more reliable based on the user historical seen movies.\n",
    "- Lastly, we implement Hybrid method by combining the result of Collaborative Filtering (SVD) and Content-based Filtering in which we **suggested the intersection of first 100 suggested results between the two**. For example, userId = 1, she/he has the suggestions to watch:\n",
    "    * Tin Cup\n",
    "    * Drag Me to Hell\n",
    "    * Prom Night\n",
    "    * Kate & Leopold\n",
    "    * Meet the Parents\n",
    "    * Dawn of the Dead\n",
    "    * Fantastic Four\n",
    "    * so on...\n",
    "- **All in all**, here in this notebook, the results are still far from optimal, since we have not optimize the parameter and try other fancy methods to minize the RMSE. Nevertheless, the purpose of this notebook is to get the main idea of how the recommender systems work."
   ]
  },
  {
   "cell_type": "markdown",
   "metadata": {},
   "source": [
    "## Import Libraries"
   ]
  },
  {
   "cell_type": "code",
   "execution_count": 1,
   "metadata": {
    "ExecuteTime": {
     "end_time": "2019-11-18T12:18:19.833000Z",
     "start_time": "2019-11-18T12:18:16.808000Z"
    }
   },
   "outputs": [],
   "source": [
    "# Data processing\n",
    "import pandas as pd\n",
    "import numpy as np\n",
    "\n",
    "# Data visualization\n",
    "import matplotlib.pyplot as plt\n",
    "import seaborn as sns\n",
    "\n",
    "# Words visualization\n",
    "from wordcloud import WordCloud\n",
    "\n",
    "# Machine learning\n",
    "from sklearn.cluster import KMeans\n",
    "from mlxtend.preprocessing import TransactionEncoder\n",
    "from mlxtend.frequent_patterns import association_rules, apriori\n",
    "\n",
    "# Others\n",
    "from tqdm import tqdm_notebook as tqdm\n",
    "from collections import Counter\n",
    "import networkx as nx\n",
    "import warnings\n",
    "warnings.filterwarnings('ignore')"
   ]
  },
  {
   "cell_type": "markdown",
   "metadata": {},
   "source": [
    "## Import Dataset"
   ]
  },
  {
   "cell_type": "code",
   "execution_count": 2,
   "metadata": {
    "ExecuteTime": {
     "end_time": "2019-11-18T12:18:22.734000Z",
     "start_time": "2019-11-18T12:18:19.836000Z"
    }
   },
   "outputs": [],
   "source": [
    "# importing rating from github\n",
    "rating_source = 'https://raw.githubusercontent.com/TJMSambas/movie_recommendation_netflix/master/ml-latest-small/ratings.csv'\n",
    "df = pd.read_csv(rating_source)\n",
    "\n",
    "# deleting unneeded column\n",
    "del df['timestamp']\n",
    "\n",
    "# importing title from github\n",
    "title_source = 'https://raw.githubusercontent.com/TJMSambas/movie_recommendation_netflix/master/ml-latest-small/movies.csv'\n",
    "title = pd.read_csv(title_source)\n",
    "\n",
    "# merging dataset with title\n",
    "df = pd.merge(df, title, on = 'movieId', how = 'left')\n",
    "\n",
    "# importing tags from github\n",
    "tags = pd.read_csv('https://raw.githubusercontent.com/TJMSambas/movie_recommendation_netflix/master/ml-latest-small/tags.csv')\n",
    "\n",
    "# deleting uneeded column\n",
    "del tags['timestamp']\n",
    "\n",
    "# merging dataset with tags\n",
    "df = pd.merge(df, tags, on = ['movieId','userId'], how = 'left')"
   ]
  },
  {
   "cell_type": "code",
   "execution_count": 3,
   "metadata": {
    "ExecuteTime": {
     "end_time": "2019-11-18T12:18:22.761000Z",
     "start_time": "2019-11-18T12:18:22.739000Z"
    }
   },
   "outputs": [
    {
     "data": {
      "text/html": [
       "<div>\n",
       "<style scoped>\n",
       "    .dataframe tbody tr th:only-of-type {\n",
       "        vertical-align: middle;\n",
       "    }\n",
       "\n",
       "    .dataframe tbody tr th {\n",
       "        vertical-align: top;\n",
       "    }\n",
       "\n",
       "    .dataframe thead th {\n",
       "        text-align: right;\n",
       "    }\n",
       "</style>\n",
       "<table border=\"1\" class=\"dataframe\">\n",
       "  <thead>\n",
       "    <tr style=\"text-align: right;\">\n",
       "      <th></th>\n",
       "      <th>userId</th>\n",
       "      <th>movieId</th>\n",
       "      <th>rating</th>\n",
       "      <th>title</th>\n",
       "      <th>genres</th>\n",
       "      <th>tag</th>\n",
       "    </tr>\n",
       "  </thead>\n",
       "  <tbody>\n",
       "    <tr>\n",
       "      <th>0</th>\n",
       "      <td>1</td>\n",
       "      <td>1</td>\n",
       "      <td>4.0</td>\n",
       "      <td>Toy Story (1995)</td>\n",
       "      <td>Adventure|Animation|Children|Comedy|Fantasy</td>\n",
       "      <td>NaN</td>\n",
       "    </tr>\n",
       "    <tr>\n",
       "      <th>1</th>\n",
       "      <td>1</td>\n",
       "      <td>3</td>\n",
       "      <td>4.0</td>\n",
       "      <td>Grumpier Old Men (1995)</td>\n",
       "      <td>Comedy|Romance</td>\n",
       "      <td>NaN</td>\n",
       "    </tr>\n",
       "    <tr>\n",
       "      <th>2</th>\n",
       "      <td>1</td>\n",
       "      <td>6</td>\n",
       "      <td>4.0</td>\n",
       "      <td>Heat (1995)</td>\n",
       "      <td>Action|Crime|Thriller</td>\n",
       "      <td>NaN</td>\n",
       "    </tr>\n",
       "  </tbody>\n",
       "</table>\n",
       "</div>"
      ],
      "text/plain": [
       "   userId  movieId  rating                    title  \\\n",
       "0       1        1     4.0         Toy Story (1995)   \n",
       "1       1        3     4.0  Grumpier Old Men (1995)   \n",
       "2       1        6     4.0              Heat (1995)   \n",
       "\n",
       "                                        genres  tag  \n",
       "0  Adventure|Animation|Children|Comedy|Fantasy  NaN  \n",
       "1                               Comedy|Romance  NaN  \n",
       "2                        Action|Crime|Thriller  NaN  "
      ]
     },
     "execution_count": 3,
     "metadata": {},
     "output_type": "execute_result"
    }
   ],
   "source": [
    "df.head(3)"
   ]
  },
  {
   "cell_type": "code",
   "execution_count": 4,
   "metadata": {
    "ExecuteTime": {
     "end_time": "2019-11-18T12:18:22.915000Z",
     "start_time": "2019-11-18T12:18:22.768000Z"
    }
   },
   "outputs": [
    {
     "name": "stdout",
     "output_type": "stream",
     "text": [
      "The number of users: 610\n",
      "The number of movie: 9724\n"
     ]
    }
   ],
   "source": [
    "n_users = df['userId'].nunique()\n",
    "n_movies = df['movieId'].nunique()\n",
    "\n",
    "print('The number of users: ' + str(n_users))\n",
    "print('The number of movie: ' + str(n_movies))"
   ]
  },
  {
   "cell_type": "markdown",
   "metadata": {},
   "source": [
    "### Data Preprocessing"
   ]
  },
  {
   "cell_type": "markdown",
   "metadata": {},
   "source": [
    "#### Data Cleaning"
   ]
  },
  {
   "cell_type": "code",
   "execution_count": 5,
   "metadata": {
    "ExecuteTime": {
     "end_time": "2019-11-18T12:18:23.221000Z",
     "start_time": "2019-11-18T12:18:22.918000Z"
    }
   },
   "outputs": [],
   "source": [
    "year = []\n",
    "title = []\n",
    "title_df = list(df['title'])\n",
    "for i in range(len(title_df)) :\n",
    "    if title_df[i][-2].isdigit() == True :\n",
    "        year.append(title_df[i][-5:-1])\n",
    "        title.append(title_df[i][:-6])\n",
    "    else :\n",
    "        year.append('NaN')\n",
    "        title.append(title_df[i])\n",
    "        \n",
    "df['title'] = title\n",
    "df['year'] = year"
   ]
  },
  {
   "cell_type": "markdown",
   "metadata": {},
   "source": [
    "#### New Encoding (Only Applied to Collaborative Filtering)"
   ]
  },
  {
   "cell_type": "code",
   "execution_count": 6,
   "metadata": {
    "ExecuteTime": {
     "end_time": "2019-11-18T12:18:23.606000Z",
     "start_time": "2019-11-18T12:18:23.224000Z"
    }
   },
   "outputs": [],
   "source": [
    "from sklearn.preprocessing import LabelEncoder"
   ]
  },
  {
   "cell_type": "code",
   "execution_count": 7,
   "metadata": {
    "ExecuteTime": {
     "end_time": "2019-11-18T12:18:24.347000Z",
     "start_time": "2019-11-18T12:18:23.608000Z"
    }
   },
   "outputs": [],
   "source": [
    "encoder = LabelEncoder()"
   ]
  },
  {
   "cell_type": "code",
   "execution_count": 8,
   "metadata": {
    "ExecuteTime": {
     "end_time": "2019-11-18T12:18:24.706000Z",
     "start_time": "2019-11-18T12:18:24.350000Z"
    }
   },
   "outputs": [],
   "source": [
    "df['movieId_new'] = encoder.fit_transform(df['movieId'])\n",
    "df['userId_new'] = encoder.fit_transform(df['userId'])"
   ]
  },
  {
   "cell_type": "code",
   "execution_count": 9,
   "metadata": {
    "ExecuteTime": {
     "end_time": "2019-11-18T12:18:24.923000Z",
     "start_time": "2019-11-18T12:18:24.710000Z"
    }
   },
   "outputs": [],
   "source": [
    "# creating a movie list\n",
    "movie_list = df[['movieId_new','title']].drop_duplicates().sort_values(by = 'movieId_new').set_index('movieId_new')"
   ]
  },
  {
   "cell_type": "markdown",
   "metadata": {},
   "source": [
    "## Exploratory Data Analysis"
   ]
  },
  {
   "cell_type": "code",
   "execution_count": 10,
   "metadata": {
    "ExecuteTime": {
     "end_time": "2019-11-18T12:18:25.949000Z",
     "start_time": "2019-11-18T12:18:24.926000Z"
    }
   },
   "outputs": [
    {
     "data": {
      "image/png": "[encoded data removed]",
      "text/plain": [
       "<Figure size 720x720 with 1 Axes>"
      ]
     },
     "metadata": {
      "needs_background": "light"
     },
     "output_type": "display_data"
    }
   ],
   "source": [
    "# creating wordcloud of the most popular genres\n",
    "plt.figure(figsize = (10,10))\n",
    "wordcloud = WordCloud(background_color = 'white', width = 1000, height = 500, max_words = 100).generate_from_frequencies(Counter(','.join(df['genres'].str.replace('|',',')).replace('Sci-Fi','SciFi').split(',')))\n",
    "plt.imshow(wordcloud)\n",
    "plt.axis('off')\n",
    "plt.title('Most Popular Genres',fontsize = 24)\n",
    "plt.show()"
   ]
  },
  {
   "cell_type": "code",
   "execution_count": 11,
   "metadata": {
    "ExecuteTime": {
     "end_time": "2019-11-18T12:18:28.094000Z",
     "start_time": "2019-11-18T12:18:25.951000Z"
    }
   },
   "outputs": [
    {
     "data": {
      "image/png": "[encoded data removed]",
      "text/plain": [
       "<Figure size 1152x1440 with 1 Axes>"
      ]
     },
     "metadata": {
      "needs_background": "light"
     },
     "output_type": "display_data"
    }
   ],
   "source": [
    "# listing top first movie to watch\n",
    "df_nx = pd.DataFrame(df['userId'].unique()).rename(columns = {0 : 'userId'})\n",
    "df['title'] = df['title'].str.rstrip()\n",
    "listuser = list(df_nx['userId'])\n",
    "listtitle = []\n",
    "for i in range(len(listuser)) :\n",
    "    title = ', '.join(df[df['userId'] == listuser[i]]['title'])\n",
    "    listtitle.append(title)\n",
    "df_nx['title'] = listtitle\n",
    "del df_nx['userId']\n",
    "\n",
    "df_nx = df_nx['title'].str.split(',', expand = True)\n",
    "\n",
    "df_nx['movie'] = 'Movie'\n",
    "movie = df_nx.truncate(before = -1, after = 100)\n",
    "\n",
    "movie = nx.from_pandas_edgelist(movie, source = 'movie', target = 0, edge_attr = True)\n",
    "\n",
    "plt.rcParams['figure.figsize'] = (16, 20)\n",
    "pos = nx.spring_layout(movie)\n",
    "color = plt.cm.Wistia(np.linspace(0, 5, 1))\n",
    "nx.draw_networkx_nodes(movie, pos, node_size = 15000, node_color = color)\n",
    "nx.draw_networkx_edges(movie, pos, width = 3, alpha = 0.6, edge_color = 'black')\n",
    "nx.draw_networkx_labels(movie, pos, font_size = 20, font_family = 'sans-serif')\n",
    "plt.axis('off')\n",
    "plt.grid()\n",
    "plt.title('Top First Movie Choices', fontsize = 40)\n",
    "plt.show()"
   ]
  },
  {
   "cell_type": "code",
   "execution_count": 12,
   "metadata": {
    "ExecuteTime": {
     "end_time": "2019-11-18T12:24:06.361000Z",
     "start_time": "2019-11-18T12:18:28.096000Z"
    }
   },
   "outputs": [
    {
     "data": {
      "application/vnd.jupyter.widget-view+json": {
       "model_id": "ee43a8a5c6594e20b8db70f7d33284da",
       "version_major": 2,
       "version_minor": 0
      },
      "text/plain": [
       "HBox(children=(IntProgress(value=0, max=3), HTML(value='')))"
      ]
     },
     "metadata": {},
     "output_type": "display_data"
    },
    {
     "data": {
      "application/vnd.jupyter.widget-view+json": {
       "model_id": "9d664964a0424341b832052288e4a55d",
       "version_major": 2,
       "version_minor": 0
      },
      "text/plain": [
       "HBox(children=(IntProgress(value=0, max=10), HTML(value='')))"
      ]
     },
     "metadata": {},
     "output_type": "display_data"
    },
    {
     "data": {
      "application/vnd.jupyter.widget-view+json": {
       "model_id": "ef630080adbf47bf8fa777045fea3390",
       "version_major": 2,
       "version_minor": 0
      },
      "text/plain": [
       "HBox(children=(IntProgress(value=0, max=10), HTML(value='')))"
      ]
     },
     "metadata": {},
     "output_type": "display_data"
    },
    {
     "data": {
      "application/vnd.jupyter.widget-view+json": {
       "model_id": "82193d13a7db456fb6197317f243bcce",
       "version_major": 2,
       "version_minor": 0
      },
      "text/plain": [
       "HBox(children=(IntProgress(value=0, max=10), HTML(value='')))"
      ]
     },
     "metadata": {},
     "output_type": "display_data"
    },
    {
     "name": "stdout",
     "output_type": "stream",
     "text": [
      "\n"
     ]
    },
    {
     "data": {
      "text/plain": [
       "Text(0.5, 1.0, 'Minimum Support 0.3')"
      ]
     },
     "execution_count": 12,
     "metadata": {},
     "output_type": "execute_result"
    },
    {
     "data": {
      "image/png": "[encoded data removed]",
      "text/plain": [
       "<Figure size 864x432 with 3 Axes>"
      ]
     },
     "metadata": {
      "needs_background": "light"
     },
     "output_type": "display_data"
    }
   ],
   "source": [
    "# plotting rules gained for each minimum lift and each minimum support to find the most optimal point\n",
    "movielist = []\n",
    "for i in df['userId'].unique() :\n",
    "    mlist = list(set(df[df['userId'] == i]['title']))\n",
    "    if len(mlist) > 0 :\n",
    "        movielist.append(mlist)\n",
    "\n",
    "te = TransactionEncoder()\n",
    "te_ary = te.fit(movielist).transform(movielist)\n",
    "df_apriori = pd.DataFrame(te_ary, columns = te.columns_)\n",
    "\n",
    "list_supp = [0.1,0.2,0.3]\n",
    "list_lift = [1,1.2,1.4,1.6,1.8,2,2.2,2.4,2.6,2.8]\n",
    "rules_each_lift = []\n",
    "for i in tqdm(list_supp): \n",
    "    frequent_moviesets = apriori(df_apriori, min_support = i)\n",
    "    for j in tqdm(list_lift):\n",
    "        rules = association_rules(frequent_moviesets, metric = 'lift', min_threshold = j)\n",
    "        rules_each_lift.append(len(rules))\n",
    "\n",
    "rules_each_lift = [rules_each_lift[i:i + 10] for i in range(0, len(rules_each_lift), 10)]\n",
    "rules_a = rules_each_lift[0]\n",
    "rules_b = rules_each_lift[1]\n",
    "rules_c = rules_each_lift[2]\n",
    "\n",
    "plt.figure(figsize = (12,6))\n",
    "plt.suptitle('Plot of Rules Gained for Each Minimum Lift in Each Minimum Support', size = 16)\n",
    "\n",
    "plt.subplot(1,3,1)\n",
    "a = sns.lineplot(x=list_lift, y = rules_a)\n",
    "plt.xlabel('lift')\n",
    "plt.ylabel('rules')\n",
    "plt.title('Minimum Support 0.1')\n",
    "\n",
    "plt.subplot(1,3,2)\n",
    "b = sns.lineplot(x=list_lift, y = rules_b)\n",
    "plt.xlabel('lift')\n",
    "plt.ylabel('rules')\n",
    "plt.title('Minimum Support 0.2')\n",
    "\n",
    "plt.subplot(1,3,3)\n",
    "c = sns.lineplot(x=list_lift, y = rules_c)\n",
    "plt.xlabel('lift')\n",
    "plt.ylabel('rules')\n",
    "plt.title('Minimum Support 0.3')\n",
    "\n",
    "plt.show()"
   ]
  },
  {
   "cell_type": "markdown",
   "metadata": {},
   "source": [
    "## Modeling"
   ]
  },
  {
   "cell_type": "markdown",
   "metadata": {},
   "source": [
    "### Apriori"
   ]
  },
  {
   "cell_type": "code",
   "execution_count": 18,
   "metadata": {
    "ExecuteTime": {
     "end_time": "2019-11-18T12:25:15.989000Z",
     "start_time": "2019-11-18T12:24:07.816000Z"
    }
   },
   "outputs": [
    {
     "data": {
      "text/html": [
       "<div>\n",
       "<style scoped>\n",
       "    .dataframe tbody tr th:only-of-type {\n",
       "        vertical-align: middle;\n",
       "    }\n",
       "\n",
       "    .dataframe tbody tr th {\n",
       "        vertical-align: top;\n",
       "    }\n",
       "\n",
       "    .dataframe thead th {\n",
       "        text-align: right;\n",
       "    }\n",
       "</style>\n",
       "<table border=\"1\" class=\"dataframe\">\n",
       "  <thead>\n",
       "    <tr style=\"text-align: right;\">\n",
       "      <th></th>\n",
       "      <th>antecedents</th>\n",
       "      <th>consequents</th>\n",
       "      <th>antecedent support</th>\n",
       "      <th>consequent support</th>\n",
       "      <th>support</th>\n",
       "      <th>confidence</th>\n",
       "      <th>lift</th>\n",
       "      <th>leverage</th>\n",
       "      <th>conviction</th>\n",
       "    </tr>\n",
       "  </thead>\n",
       "  <tbody>\n",
       "    <tr>\n",
       "      <th>2509288</th>\n",
       "      <td>(Star Wars: Episode V - The Empire Strikes Bac...</td>\n",
       "      <td>(Star Wars: Episode IV - A New Hope)</td>\n",
       "      <td>0.113115</td>\n",
       "      <td>0.411475</td>\n",
       "      <td>0.113115</td>\n",
       "      <td>1.00000</td>\n",
       "      <td>2.430279</td>\n",
       "      <td>0.066571</td>\n",
       "      <td>inf</td>\n",
       "    </tr>\n",
       "    <tr>\n",
       "      <th>3224844</th>\n",
       "      <td>(Back to the Future, Star Wars: Episode V - Th...</td>\n",
       "      <td>(Star Wars: Episode IV - A New Hope, Star Wars...</td>\n",
       "      <td>0.100000</td>\n",
       "      <td>0.286885</td>\n",
       "      <td>0.100000</td>\n",
       "      <td>1.00000</td>\n",
       "      <td>3.485714</td>\n",
       "      <td>0.071311</td>\n",
       "      <td>inf</td>\n",
       "    </tr>\n",
       "    <tr>\n",
       "      <th>2555942</th>\n",
       "      <td>(Kill Bill: Vol. 1, Matrix, The, Silence of th...</td>\n",
       "      <td>(Lord of the Rings: The Return of the King, The)</td>\n",
       "      <td>0.100000</td>\n",
       "      <td>0.303279</td>\n",
       "      <td>0.100000</td>\n",
       "      <td>1.00000</td>\n",
       "      <td>3.297297</td>\n",
       "      <td>0.069672</td>\n",
       "      <td>inf</td>\n",
       "    </tr>\n",
       "    <tr>\n",
       "      <th>776345</th>\n",
       "      <td>(Lord of the Rings: The Two Towers, The, Fight...</td>\n",
       "      <td>(Matrix, The)</td>\n",
       "      <td>0.104918</td>\n",
       "      <td>0.455738</td>\n",
       "      <td>0.104918</td>\n",
       "      <td>1.00000</td>\n",
       "      <td>2.194245</td>\n",
       "      <td>0.057103</td>\n",
       "      <td>inf</td>\n",
       "    </tr>\n",
       "    <tr>\n",
       "      <th>1653386</th>\n",
       "      <td>(Pulp Fiction, True Lies, Jurassic Park, Ace V...</td>\n",
       "      <td>(Forrest Gump)</td>\n",
       "      <td>0.100000</td>\n",
       "      <td>0.539344</td>\n",
       "      <td>0.100000</td>\n",
       "      <td>1.00000</td>\n",
       "      <td>1.854103</td>\n",
       "      <td>0.046066</td>\n",
       "      <td>inf</td>\n",
       "    </tr>\n",
       "    <tr>\n",
       "      <th>2555938</th>\n",
       "      <td>(Kill Bill: Vol. 1, Lord of the Rings: The Ret...</td>\n",
       "      <td>(Lord of the Rings: The Two Towers, The)</td>\n",
       "      <td>0.100000</td>\n",
       "      <td>0.308197</td>\n",
       "      <td>0.100000</td>\n",
       "      <td>1.00000</td>\n",
       "      <td>3.244681</td>\n",
       "      <td>0.069180</td>\n",
       "      <td>inf</td>\n",
       "    </tr>\n",
       "    <tr>\n",
       "      <th>1797077</th>\n",
       "      <td>(Back to the Future, Star Wars: Episode V - Th...</td>\n",
       "      <td>(Star Wars: Episode VI - Return of the Jedi)</td>\n",
       "      <td>0.101639</td>\n",
       "      <td>0.321311</td>\n",
       "      <td>0.101639</td>\n",
       "      <td>1.00000</td>\n",
       "      <td>3.112245</td>\n",
       "      <td>0.068981</td>\n",
       "      <td>inf</td>\n",
       "    </tr>\n",
       "    <tr>\n",
       "      <th>1435267</th>\n",
       "      <td>(Terminator, The, Star Wars: Episode VI - Retu...</td>\n",
       "      <td>(Star Wars: Episode V - The Empire Strikes Back)</td>\n",
       "      <td>0.101639</td>\n",
       "      <td>0.345902</td>\n",
       "      <td>0.101639</td>\n",
       "      <td>1.00000</td>\n",
       "      <td>2.890995</td>\n",
       "      <td>0.066482</td>\n",
       "      <td>inf</td>\n",
       "    </tr>\n",
       "    <tr>\n",
       "      <th>702968</th>\n",
       "      <td>(Gladiator, Star Wars: Episode IV - A New Hope...</td>\n",
       "      <td>(Matrix, The)</td>\n",
       "      <td>0.100000</td>\n",
       "      <td>0.455738</td>\n",
       "      <td>0.100000</td>\n",
       "      <td>1.00000</td>\n",
       "      <td>2.194245</td>\n",
       "      <td>0.054426</td>\n",
       "      <td>inf</td>\n",
       "    </tr>\n",
       "    <tr>\n",
       "      <th>3122048</th>\n",
       "      <td>(Terminator, The, Sixth Sense, The, Jurassic P...</td>\n",
       "      <td>(Star Wars: Episode V - The Empire Strikes Back)</td>\n",
       "      <td>0.106557</td>\n",
       "      <td>0.345902</td>\n",
       "      <td>0.106557</td>\n",
       "      <td>1.00000</td>\n",
       "      <td>2.890995</td>\n",
       "      <td>0.069699</td>\n",
       "      <td>inf</td>\n",
       "    </tr>\n",
       "    <tr>\n",
       "      <th>2152430</th>\n",
       "      <td>(Pulp Fiction, Star Wars: Episode V - The Empi...</td>\n",
       "      <td>(Matrix, The)</td>\n",
       "      <td>0.113115</td>\n",
       "      <td>0.455738</td>\n",
       "      <td>0.113115</td>\n",
       "      <td>1.00000</td>\n",
       "      <td>2.194245</td>\n",
       "      <td>0.061564</td>\n",
       "      <td>inf</td>\n",
       "    </tr>\n",
       "    <tr>\n",
       "      <th>1816676</th>\n",
       "      <td>(Back to the Future, Independence Day (a.k.a. ...</td>\n",
       "      <td>(Star Wars: Episode V - The Empire Strikes Back)</td>\n",
       "      <td>0.103279</td>\n",
       "      <td>0.345902</td>\n",
       "      <td>0.103279</td>\n",
       "      <td>1.00000</td>\n",
       "      <td>2.890995</td>\n",
       "      <td>0.067554</td>\n",
       "      <td>inf</td>\n",
       "    </tr>\n",
       "    <tr>\n",
       "      <th>3165626</th>\n",
       "      <td>(Jurassic Park, Star Wars: Episode VI - Return...</td>\n",
       "      <td>(Star Wars: Episode V - The Empire Strikes Back)</td>\n",
       "      <td>0.104918</td>\n",
       "      <td>0.345902</td>\n",
       "      <td>0.104918</td>\n",
       "      <td>1.00000</td>\n",
       "      <td>2.890995</td>\n",
       "      <td>0.068627</td>\n",
       "      <td>inf</td>\n",
       "    </tr>\n",
       "    <tr>\n",
       "      <th>1941379</th>\n",
       "      <td>(Star Wars: Episode V - The Empire Strikes Bac...</td>\n",
       "      <td>(Star Wars: Episode VI - Return of the Jedi)</td>\n",
       "      <td>0.103279</td>\n",
       "      <td>0.321311</td>\n",
       "      <td>0.103279</td>\n",
       "      <td>1.00000</td>\n",
       "      <td>3.112245</td>\n",
       "      <td>0.070094</td>\n",
       "      <td>inf</td>\n",
       "    </tr>\n",
       "    <tr>\n",
       "      <th>1032017</th>\n",
       "      <td>(Star Wars: Episode V - The Empire Strikes Bac...</td>\n",
       "      <td>(Star Wars: Episode IV - A New Hope)</td>\n",
       "      <td>0.104918</td>\n",
       "      <td>0.411475</td>\n",
       "      <td>0.104918</td>\n",
       "      <td>1.00000</td>\n",
       "      <td>2.430279</td>\n",
       "      <td>0.061747</td>\n",
       "      <td>inf</td>\n",
       "    </tr>\n",
       "    <tr>\n",
       "      <th>2826685</th>\n",
       "      <td>(Shrek, Fight Club, Lord of the Rings: The Ret...</td>\n",
       "      <td>(Matrix, The)</td>\n",
       "      <td>0.101639</td>\n",
       "      <td>0.455738</td>\n",
       "      <td>0.101639</td>\n",
       "      <td>1.00000</td>\n",
       "      <td>2.194245</td>\n",
       "      <td>0.055318</td>\n",
       "      <td>inf</td>\n",
       "    </tr>\n",
       "    <tr>\n",
       "      <th>2152492</th>\n",
       "      <td>(Pulp Fiction, Star Wars: Episode VI - Return ...</td>\n",
       "      <td>(Matrix, The)</td>\n",
       "      <td>0.104918</td>\n",
       "      <td>0.455738</td>\n",
       "      <td>0.104918</td>\n",
       "      <td>1.00000</td>\n",
       "      <td>2.194245</td>\n",
       "      <td>0.057103</td>\n",
       "      <td>inf</td>\n",
       "    </tr>\n",
       "    <tr>\n",
       "      <th>2555876</th>\n",
       "      <td>(Kill Bill: Vol. 1, Shrek, Lord of the Rings: ...</td>\n",
       "      <td>(Lord of the Rings: The Two Towers, The)</td>\n",
       "      <td>0.109836</td>\n",
       "      <td>0.308197</td>\n",
       "      <td>0.109836</td>\n",
       "      <td>1.00000</td>\n",
       "      <td>3.244681</td>\n",
       "      <td>0.075985</td>\n",
       "      <td>inf</td>\n",
       "    </tr>\n",
       "    <tr>\n",
       "      <th>1371798</th>\n",
       "      <td>(Matrix, The, Gladiator, Star Wars: Episode V ...</td>\n",
       "      <td>(Star Wars: Episode VI - Return of the Jedi)</td>\n",
       "      <td>0.104918</td>\n",
       "      <td>0.321311</td>\n",
       "      <td>0.104918</td>\n",
       "      <td>1.00000</td>\n",
       "      <td>3.112245</td>\n",
       "      <td>0.071207</td>\n",
       "      <td>inf</td>\n",
       "    </tr>\n",
       "    <tr>\n",
       "      <th>3224853</th>\n",
       "      <td>(Back to the Future, Independence Day (a.k.a. ...</td>\n",
       "      <td>(Star Wars: Episode V - The Empire Strikes Bac...</td>\n",
       "      <td>0.100000</td>\n",
       "      <td>0.311475</td>\n",
       "      <td>0.100000</td>\n",
       "      <td>1.00000</td>\n",
       "      <td>3.210526</td>\n",
       "      <td>0.068852</td>\n",
       "      <td>inf</td>\n",
       "    </tr>\n",
       "    <tr>\n",
       "      <th>702938</th>\n",
       "      <td>(Gladiator, Star Wars: Episode V - The Empire ...</td>\n",
       "      <td>(Matrix, The)</td>\n",
       "      <td>0.104918</td>\n",
       "      <td>0.455738</td>\n",
       "      <td>0.104918</td>\n",
       "      <td>1.00000</td>\n",
       "      <td>2.194245</td>\n",
       "      <td>0.057103</td>\n",
       "      <td>inf</td>\n",
       "    </tr>\n",
       "    <tr>\n",
       "      <th>2152369</th>\n",
       "      <td>(Pulp Fiction, Fight Club, Star Wars: Episode ...</td>\n",
       "      <td>(Matrix, The)</td>\n",
       "      <td>0.119672</td>\n",
       "      <td>0.455738</td>\n",
       "      <td>0.119672</td>\n",
       "      <td>1.00000</td>\n",
       "      <td>2.194245</td>\n",
       "      <td>0.065133</td>\n",
       "      <td>inf</td>\n",
       "    </tr>\n",
       "    <tr>\n",
       "      <th>1511802</th>\n",
       "      <td>(Jurassic Park, Star Wars: Episode V - The Emp...</td>\n",
       "      <td>(Star Wars: Episode IV - A New Hope)</td>\n",
       "      <td>0.113115</td>\n",
       "      <td>0.411475</td>\n",
       "      <td>0.113115</td>\n",
       "      <td>1.00000</td>\n",
       "      <td>2.430279</td>\n",
       "      <td>0.066571</td>\n",
       "      <td>inf</td>\n",
       "    </tr>\n",
       "    <tr>\n",
       "      <th>702999</th>\n",
       "      <td>(Gladiator, Terminator 2: Judgment Day, Star W...</td>\n",
       "      <td>(Matrix, The)</td>\n",
       "      <td>0.100000</td>\n",
       "      <td>0.455738</td>\n",
       "      <td>0.100000</td>\n",
       "      <td>1.00000</td>\n",
       "      <td>2.194245</td>\n",
       "      <td>0.054426</td>\n",
       "      <td>inf</td>\n",
       "    </tr>\n",
       "    <tr>\n",
       "      <th>3122170</th>\n",
       "      <td>(Terminator, The, Sixth Sense, The, Star Wars:...</td>\n",
       "      <td>(Terminator 2: Judgment Day)</td>\n",
       "      <td>0.108197</td>\n",
       "      <td>0.367213</td>\n",
       "      <td>0.108197</td>\n",
       "      <td>1.00000</td>\n",
       "      <td>2.723214</td>\n",
       "      <td>0.068465</td>\n",
       "      <td>inf</td>\n",
       "    </tr>\n",
       "    <tr>\n",
       "      <th>2997960</th>\n",
       "      <td>(Forrest Gump, Jurassic Park, Star Wars: Episo...</td>\n",
       "      <td>(Star Wars: Episode V - The Empire Strikes Back)</td>\n",
       "      <td>0.109836</td>\n",
       "      <td>0.345902</td>\n",
       "      <td>0.109836</td>\n",
       "      <td>1.00000</td>\n",
       "      <td>2.890995</td>\n",
       "      <td>0.071844</td>\n",
       "      <td>inf</td>\n",
       "    </tr>\n",
       "    <tr>\n",
       "      <th>2556012</th>\n",
       "      <td>(Matrix, The, Kill Bill: Vol. 1, Lord of the R...</td>\n",
       "      <td>(Lord of the Rings: The Return of the King, Th...</td>\n",
       "      <td>0.101639</td>\n",
       "      <td>0.263934</td>\n",
       "      <td>0.101639</td>\n",
       "      <td>1.00000</td>\n",
       "      <td>3.788820</td>\n",
       "      <td>0.074813</td>\n",
       "      <td>inf</td>\n",
       "    </tr>\n",
       "    <tr>\n",
       "      <th>2556004</th>\n",
       "      <td>(Kill Bill: Vol. 1, Matrix, The, Lord of the R...</td>\n",
       "      <td>(Lord of the Rings: The Return of the King, The)</td>\n",
       "      <td>0.101639</td>\n",
       "      <td>0.303279</td>\n",
       "      <td>0.101639</td>\n",
       "      <td>1.00000</td>\n",
       "      <td>3.297297</td>\n",
       "      <td>0.070814</td>\n",
       "      <td>inf</td>\n",
       "    </tr>\n",
       "    <tr>\n",
       "      <th>2826810</th>\n",
       "      <td>(Star Wars: Episode V - The Empire Strikes Bac...</td>\n",
       "      <td>(Matrix, The)</td>\n",
       "      <td>0.100000</td>\n",
       "      <td>0.455738</td>\n",
       "      <td>0.100000</td>\n",
       "      <td>1.00000</td>\n",
       "      <td>2.194245</td>\n",
       "      <td>0.054426</td>\n",
       "      <td>inf</td>\n",
       "    </tr>\n",
       "    <tr>\n",
       "      <th>1816672</th>\n",
       "      <td>(Back to the Future, Star Wars: Episode V - Th...</td>\n",
       "      <td>(Star Wars: Episode IV - A New Hope)</td>\n",
       "      <td>0.103279</td>\n",
       "      <td>0.411475</td>\n",
       "      <td>0.103279</td>\n",
       "      <td>1.00000</td>\n",
       "      <td>2.430279</td>\n",
       "      <td>0.060782</td>\n",
       "      <td>inf</td>\n",
       "    </tr>\n",
       "    <tr>\n",
       "      <th>...</th>\n",
       "      <td>...</td>\n",
       "      <td>...</td>\n",
       "      <td>...</td>\n",
       "      <td>...</td>\n",
       "      <td>...</td>\n",
       "      <td>...</td>\n",
       "      <td>...</td>\n",
       "      <td>...</td>\n",
       "      <td>...</td>\n",
       "    </tr>\n",
       "    <tr>\n",
       "      <th>1702527</th>\n",
       "      <td>(Forrest Gump)</td>\n",
       "      <td>(Pulp Fiction, Fight Club, American Beauty, Sh...</td>\n",
       "      <td>0.539344</td>\n",
       "      <td>0.113115</td>\n",
       "      <td>0.100000</td>\n",
       "      <td>0.18541</td>\n",
       "      <td>1.639135</td>\n",
       "      <td>0.038992</td>\n",
       "      <td>1.088751</td>\n",
       "    </tr>\n",
       "    <tr>\n",
       "      <th>1061887</th>\n",
       "      <td>(Forrest Gump)</td>\n",
       "      <td>(Matrix, The, Reservoir Dogs, Fight Club, Lord...</td>\n",
       "      <td>0.539344</td>\n",
       "      <td>0.111475</td>\n",
       "      <td>0.100000</td>\n",
       "      <td>0.18541</td>\n",
       "      <td>1.663240</td>\n",
       "      <td>0.039876</td>\n",
       "      <td>1.090763</td>\n",
       "    </tr>\n",
       "    <tr>\n",
       "      <th>2966983</th>\n",
       "      <td>(Forrest Gump)</td>\n",
       "      <td>(Pulp Fiction, Terminator, The, Star Wars: Epi...</td>\n",
       "      <td>0.539344</td>\n",
       "      <td>0.109836</td>\n",
       "      <td>0.100000</td>\n",
       "      <td>0.18541</td>\n",
       "      <td>1.688064</td>\n",
       "      <td>0.040761</td>\n",
       "      <td>1.092776</td>\n",
       "    </tr>\n",
       "    <tr>\n",
       "      <th>1237685</th>\n",
       "      <td>(Forrest Gump)</td>\n",
       "      <td>(Star Wars: Episode IV - A New Hope, Star Wars...</td>\n",
       "      <td>0.539344</td>\n",
       "      <td>0.113115</td>\n",
       "      <td>0.100000</td>\n",
       "      <td>0.18541</td>\n",
       "      <td>1.639135</td>\n",
       "      <td>0.038992</td>\n",
       "      <td>1.088751</td>\n",
       "    </tr>\n",
       "    <tr>\n",
       "      <th>3073065</th>\n",
       "      <td>(Forrest Gump)</td>\n",
       "      <td>(Star Wars: Episode V - The Empire Strikes Bac...</td>\n",
       "      <td>0.539344</td>\n",
       "      <td>0.108197</td>\n",
       "      <td>0.100000</td>\n",
       "      <td>0.18541</td>\n",
       "      <td>1.713641</td>\n",
       "      <td>0.041645</td>\n",
       "      <td>1.094788</td>\n",
       "    </tr>\n",
       "    <tr>\n",
       "      <th>2251413</th>\n",
       "      <td>(Forrest Gump)</td>\n",
       "      <td>(Toy Story, Jurassic Park, Lord of the Rings: ...</td>\n",
       "      <td>0.539344</td>\n",
       "      <td>0.101639</td>\n",
       "      <td>0.100000</td>\n",
       "      <td>0.18541</td>\n",
       "      <td>1.824198</td>\n",
       "      <td>0.045181</td>\n",
       "      <td>1.102838</td>\n",
       "    </tr>\n",
       "    <tr>\n",
       "      <th>2250051</th>\n",
       "      <td>(Forrest Gump)</td>\n",
       "      <td>(Pulp Fiction, True Lies, Jurassic Park, Speed...</td>\n",
       "      <td>0.539344</td>\n",
       "      <td>0.103279</td>\n",
       "      <td>0.100000</td>\n",
       "      <td>0.18541</td>\n",
       "      <td>1.795243</td>\n",
       "      <td>0.044297</td>\n",
       "      <td>1.100826</td>\n",
       "    </tr>\n",
       "    <tr>\n",
       "      <th>2250113</th>\n",
       "      <td>(Forrest Gump)</td>\n",
       "      <td>(Pulp Fiction, True Lies, Jurassic Park, Lion ...</td>\n",
       "      <td>0.539344</td>\n",
       "      <td>0.104918</td>\n",
       "      <td>0.100000</td>\n",
       "      <td>0.18541</td>\n",
       "      <td>1.767192</td>\n",
       "      <td>0.043413</td>\n",
       "      <td>1.098813</td>\n",
       "    </tr>\n",
       "    <tr>\n",
       "      <th>1800899</th>\n",
       "      <td>(Forrest Gump)</td>\n",
       "      <td>(Terminator, The, Back to the Future, Star War...</td>\n",
       "      <td>0.539344</td>\n",
       "      <td>0.113115</td>\n",
       "      <td>0.100000</td>\n",
       "      <td>0.18541</td>\n",
       "      <td>1.639135</td>\n",
       "      <td>0.038992</td>\n",
       "      <td>1.088751</td>\n",
       "    </tr>\n",
       "    <tr>\n",
       "      <th>2250237</th>\n",
       "      <td>(Forrest Gump)</td>\n",
       "      <td>(Star Wars: Episode V - The Empire Strikes Bac...</td>\n",
       "      <td>0.539344</td>\n",
       "      <td>0.106557</td>\n",
       "      <td>0.100000</td>\n",
       "      <td>0.18541</td>\n",
       "      <td>1.740005</td>\n",
       "      <td>0.042529</td>\n",
       "      <td>1.096801</td>\n",
       "    </tr>\n",
       "    <tr>\n",
       "      <th>1062781</th>\n",
       "      <td>(Forrest Gump)</td>\n",
       "      <td>(Fight Club, Star Wars: Episode VI - Return of...</td>\n",
       "      <td>0.539344</td>\n",
       "      <td>0.104918</td>\n",
       "      <td>0.100000</td>\n",
       "      <td>0.18541</td>\n",
       "      <td>1.767192</td>\n",
       "      <td>0.043413</td>\n",
       "      <td>1.098813</td>\n",
       "    </tr>\n",
       "    <tr>\n",
       "      <th>1062751</th>\n",
       "      <td>(Forrest Gump)</td>\n",
       "      <td>(Star Wars: Episode IV - A New Hope, Fight Clu...</td>\n",
       "      <td>0.539344</td>\n",
       "      <td>0.108197</td>\n",
       "      <td>0.100000</td>\n",
       "      <td>0.18541</td>\n",
       "      <td>1.713641</td>\n",
       "      <td>0.041645</td>\n",
       "      <td>1.094788</td>\n",
       "    </tr>\n",
       "    <tr>\n",
       "      <th>1062721</th>\n",
       "      <td>(Forrest Gump)</td>\n",
       "      <td>(Pulp Fiction, Fight Club, Minority Report, Lo...</td>\n",
       "      <td>0.539344</td>\n",
       "      <td>0.103279</td>\n",
       "      <td>0.100000</td>\n",
       "      <td>0.18541</td>\n",
       "      <td>1.795243</td>\n",
       "      <td>0.044297</td>\n",
       "      <td>1.100826</td>\n",
       "    </tr>\n",
       "    <tr>\n",
       "      <th>2967235</th>\n",
       "      <td>(Forrest Gump)</td>\n",
       "      <td>(Pulp Fiction, Terminator, The, Independence D...</td>\n",
       "      <td>0.539344</td>\n",
       "      <td>0.108197</td>\n",
       "      <td>0.100000</td>\n",
       "      <td>0.18541</td>\n",
       "      <td>1.713641</td>\n",
       "      <td>0.041645</td>\n",
       "      <td>1.094788</td>\n",
       "    </tr>\n",
       "    <tr>\n",
       "      <th>826997</th>\n",
       "      <td>(Forrest Gump)</td>\n",
       "      <td>(Terminator, The, Back to the Future, Toy Stor...</td>\n",
       "      <td>0.539344</td>\n",
       "      <td>0.108197</td>\n",
       "      <td>0.100000</td>\n",
       "      <td>0.18541</td>\n",
       "      <td>1.713641</td>\n",
       "      <td>0.041645</td>\n",
       "      <td>1.094788</td>\n",
       "    </tr>\n",
       "    <tr>\n",
       "      <th>826967</th>\n",
       "      <td>(Forrest Gump)</td>\n",
       "      <td>(Terminator, The, Back to the Future, Toy Stor...</td>\n",
       "      <td>0.539344</td>\n",
       "      <td>0.106557</td>\n",
       "      <td>0.100000</td>\n",
       "      <td>0.18541</td>\n",
       "      <td>1.740005</td>\n",
       "      <td>0.042529</td>\n",
       "      <td>1.096801</td>\n",
       "    </tr>\n",
       "    <tr>\n",
       "      <th>3041985</th>\n",
       "      <td>(Forrest Gump)</td>\n",
       "      <td>(Pulp Fiction, Star Wars: Episode V - The Empi...</td>\n",
       "      <td>0.539344</td>\n",
       "      <td>0.108197</td>\n",
       "      <td>0.100000</td>\n",
       "      <td>0.18541</td>\n",
       "      <td>1.713641</td>\n",
       "      <td>0.041645</td>\n",
       "      <td>1.094788</td>\n",
       "    </tr>\n",
       "    <tr>\n",
       "      <th>826877</th>\n",
       "      <td>(Forrest Gump)</td>\n",
       "      <td>(Terminator, The, Back to the Future, Toy Stor...</td>\n",
       "      <td>0.539344</td>\n",
       "      <td>0.109836</td>\n",
       "      <td>0.100000</td>\n",
       "      <td>0.18541</td>\n",
       "      <td>1.688064</td>\n",
       "      <td>0.040761</td>\n",
       "      <td>1.092776</td>\n",
       "    </tr>\n",
       "    <tr>\n",
       "      <th>2250917</th>\n",
       "      <td>(Forrest Gump)</td>\n",
       "      <td>(Shrek, Jurassic Park, Lord of the Rings: The ...</td>\n",
       "      <td>0.539344</td>\n",
       "      <td>0.103279</td>\n",
       "      <td>0.100000</td>\n",
       "      <td>0.18541</td>\n",
       "      <td>1.795243</td>\n",
       "      <td>0.044297</td>\n",
       "      <td>1.100826</td>\n",
       "    </tr>\n",
       "    <tr>\n",
       "      <th>1190545</th>\n",
       "      <td>(Forrest Gump)</td>\n",
       "      <td>(Pulp Fiction, Gladiator, Star Wars: Episode I...</td>\n",
       "      <td>0.539344</td>\n",
       "      <td>0.103279</td>\n",
       "      <td>0.100000</td>\n",
       "      <td>0.18541</td>\n",
       "      <td>1.795243</td>\n",
       "      <td>0.044297</td>\n",
       "      <td>1.100826</td>\n",
       "    </tr>\n",
       "    <tr>\n",
       "      <th>3247433</th>\n",
       "      <td>(Forrest Gump)</td>\n",
       "      <td>(Star Wars: Episode V - The Empire Strikes Bac...</td>\n",
       "      <td>0.539344</td>\n",
       "      <td>0.104918</td>\n",
       "      <td>0.100000</td>\n",
       "      <td>0.18541</td>\n",
       "      <td>1.767192</td>\n",
       "      <td>0.043413</td>\n",
       "      <td>1.098813</td>\n",
       "    </tr>\n",
       "    <tr>\n",
       "      <th>1279007</th>\n",
       "      <td>(Forrest Gump)</td>\n",
       "      <td>(Pulp Fiction, Star Wars: Episode VI - Return ...</td>\n",
       "      <td>0.539344</td>\n",
       "      <td>0.106557</td>\n",
       "      <td>0.100000</td>\n",
       "      <td>0.18541</td>\n",
       "      <td>1.740005</td>\n",
       "      <td>0.042529</td>\n",
       "      <td>1.096801</td>\n",
       "    </tr>\n",
       "    <tr>\n",
       "      <th>1758809</th>\n",
       "      <td>(Forrest Gump)</td>\n",
       "      <td>(True Lies, Batman, Fugitive, The, Apollo 13, ...</td>\n",
       "      <td>0.539344</td>\n",
       "      <td>0.111475</td>\n",
       "      <td>0.100000</td>\n",
       "      <td>0.18541</td>\n",
       "      <td>1.663240</td>\n",
       "      <td>0.039876</td>\n",
       "      <td>1.090763</td>\n",
       "    </tr>\n",
       "    <tr>\n",
       "      <th>2251227</th>\n",
       "      <td>(Forrest Gump)</td>\n",
       "      <td>(Pulp Fiction, Jurassic Park, Star Wars: Episo...</td>\n",
       "      <td>0.539344</td>\n",
       "      <td>0.101639</td>\n",
       "      <td>0.100000</td>\n",
       "      <td>0.18541</td>\n",
       "      <td>1.824198</td>\n",
       "      <td>0.045181</td>\n",
       "      <td>1.102838</td>\n",
       "    </tr>\n",
       "    <tr>\n",
       "      <th>1190575</th>\n",
       "      <td>(Forrest Gump)</td>\n",
       "      <td>(Pulp Fiction, Gladiator, Star Wars: Episode V...</td>\n",
       "      <td>0.539344</td>\n",
       "      <td>0.103279</td>\n",
       "      <td>0.100000</td>\n",
       "      <td>0.18541</td>\n",
       "      <td>1.795243</td>\n",
       "      <td>0.044297</td>\n",
       "      <td>1.100826</td>\n",
       "    </tr>\n",
       "    <tr>\n",
       "      <th>1702717</th>\n",
       "      <td>(Forrest Gump)</td>\n",
       "      <td>(Pulp Fiction, Fight Club, Seven (a.k.a. Se7en...</td>\n",
       "      <td>0.539344</td>\n",
       "      <td>0.113115</td>\n",
       "      <td>0.100000</td>\n",
       "      <td>0.18541</td>\n",
       "      <td>1.639135</td>\n",
       "      <td>0.038992</td>\n",
       "      <td>1.088751</td>\n",
       "    </tr>\n",
       "    <tr>\n",
       "      <th>1062423</th>\n",
       "      <td>(Forrest Gump)</td>\n",
       "      <td>(Matrix, The, Fight Club, X-Men, Lord of the R...</td>\n",
       "      <td>0.539344</td>\n",
       "      <td>0.108197</td>\n",
       "      <td>0.100000</td>\n",
       "      <td>0.18541</td>\n",
       "      <td>1.713641</td>\n",
       "      <td>0.041645</td>\n",
       "      <td>1.094788</td>\n",
       "    </tr>\n",
       "    <tr>\n",
       "      <th>1237655</th>\n",
       "      <td>(Forrest Gump)</td>\n",
       "      <td>(Star Wars: Episode V - The Empire Strikes Bac...</td>\n",
       "      <td>0.539344</td>\n",
       "      <td>0.111475</td>\n",
       "      <td>0.100000</td>\n",
       "      <td>0.18541</td>\n",
       "      <td>1.663240</td>\n",
       "      <td>0.039876</td>\n",
       "      <td>1.090763</td>\n",
       "    </tr>\n",
       "    <tr>\n",
       "      <th>402275</th>\n",
       "      <td>(Forrest Gump)</td>\n",
       "      <td>(Fugitive, The, Shawshank Redemption, The, Pre...</td>\n",
       "      <td>0.539344</td>\n",
       "      <td>0.101639</td>\n",
       "      <td>0.100000</td>\n",
       "      <td>0.18541</td>\n",
       "      <td>1.824198</td>\n",
       "      <td>0.045181</td>\n",
       "      <td>1.102838</td>\n",
       "    </tr>\n",
       "    <tr>\n",
       "      <th>2235639</th>\n",
       "      <td>(Forrest Gump)</td>\n",
       "      <td>(Sixth Sense, The, Star Wars: Episode V - The ...</td>\n",
       "      <td>0.539344</td>\n",
       "      <td>0.108197</td>\n",
       "      <td>0.100000</td>\n",
       "      <td>0.18541</td>\n",
       "      <td>1.713641</td>\n",
       "      <td>0.041645</td>\n",
       "      <td>1.094788</td>\n",
       "    </tr>\n",
       "  </tbody>\n",
       "</table>\n",
       "<p>3391500 rows × 9 columns</p>\n",
       "</div>"
      ],
      "text/plain": [
       "                                               antecedents  \\\n",
       "2509288  (Star Wars: Episode V - The Empire Strikes Bac...   \n",
       "3224844  (Back to the Future, Star Wars: Episode V - Th...   \n",
       "2555942  (Kill Bill: Vol. 1, Matrix, The, Silence of th...   \n",
       "776345   (Lord of the Rings: The Two Towers, The, Fight...   \n",
       "1653386  (Pulp Fiction, True Lies, Jurassic Park, Ace V...   \n",
       "2555938  (Kill Bill: Vol. 1, Lord of the Rings: The Ret...   \n",
       "1797077  (Back to the Future, Star Wars: Episode V - Th...   \n",
       "1435267  (Terminator, The, Star Wars: Episode VI - Retu...   \n",
       "702968   (Gladiator, Star Wars: Episode IV - A New Hope...   \n",
       "3122048  (Terminator, The, Sixth Sense, The, Jurassic P...   \n",
       "2152430  (Pulp Fiction, Star Wars: Episode V - The Empi...   \n",
       "1816676  (Back to the Future, Independence Day (a.k.a. ...   \n",
       "3165626  (Jurassic Park, Star Wars: Episode VI - Return...   \n",
       "1941379  (Star Wars: Episode V - The Empire Strikes Bac...   \n",
       "1032017  (Star Wars: Episode V - The Empire Strikes Bac...   \n",
       "2826685  (Shrek, Fight Club, Lord of the Rings: The Ret...   \n",
       "2152492  (Pulp Fiction, Star Wars: Episode VI - Return ...   \n",
       "2555876  (Kill Bill: Vol. 1, Shrek, Lord of the Rings: ...   \n",
       "1371798  (Matrix, The, Gladiator, Star Wars: Episode V ...   \n",
       "3224853  (Back to the Future, Independence Day (a.k.a. ...   \n",
       "702938   (Gladiator, Star Wars: Episode V - The Empire ...   \n",
       "2152369  (Pulp Fiction, Fight Club, Star Wars: Episode ...   \n",
       "1511802  (Jurassic Park, Star Wars: Episode V - The Emp...   \n",
       "702999   (Gladiator, Terminator 2: Judgment Day, Star W...   \n",
       "3122170  (Terminator, The, Sixth Sense, The, Star Wars:...   \n",
       "2997960  (Forrest Gump, Jurassic Park, Star Wars: Episo...   \n",
       "2556012  (Matrix, The, Kill Bill: Vol. 1, Lord of the R...   \n",
       "2556004  (Kill Bill: Vol. 1, Matrix, The, Lord of the R...   \n",
       "2826810  (Star Wars: Episode V - The Empire Strikes Bac...   \n",
       "1816672  (Back to the Future, Star Wars: Episode V - Th...   \n",
       "...                                                    ...   \n",
       "1702527                                     (Forrest Gump)   \n",
       "1061887                                     (Forrest Gump)   \n",
       "2966983                                     (Forrest Gump)   \n",
       "1237685                                     (Forrest Gump)   \n",
       "3073065                                     (Forrest Gump)   \n",
       "2251413                                     (Forrest Gump)   \n",
       "2250051                                     (Forrest Gump)   \n",
       "2250113                                     (Forrest Gump)   \n",
       "1800899                                     (Forrest Gump)   \n",
       "2250237                                     (Forrest Gump)   \n",
       "1062781                                     (Forrest Gump)   \n",
       "1062751                                     (Forrest Gump)   \n",
       "1062721                                     (Forrest Gump)   \n",
       "2967235                                     (Forrest Gump)   \n",
       "826997                                      (Forrest Gump)   \n",
       "826967                                      (Forrest Gump)   \n",
       "3041985                                     (Forrest Gump)   \n",
       "826877                                      (Forrest Gump)   \n",
       "2250917                                     (Forrest Gump)   \n",
       "1190545                                     (Forrest Gump)   \n",
       "3247433                                     (Forrest Gump)   \n",
       "1279007                                     (Forrest Gump)   \n",
       "1758809                                     (Forrest Gump)   \n",
       "2251227                                     (Forrest Gump)   \n",
       "1190575                                     (Forrest Gump)   \n",
       "1702717                                     (Forrest Gump)   \n",
       "1062423                                     (Forrest Gump)   \n",
       "1237655                                     (Forrest Gump)   \n",
       "402275                                      (Forrest Gump)   \n",
       "2235639                                     (Forrest Gump)   \n",
       "\n",
       "                                               consequents  \\\n",
       "2509288               (Star Wars: Episode IV - A New Hope)   \n",
       "3224844  (Star Wars: Episode IV - A New Hope, Star Wars...   \n",
       "2555942   (Lord of the Rings: The Return of the King, The)   \n",
       "776345                                       (Matrix, The)   \n",
       "1653386                                     (Forrest Gump)   \n",
       "2555938           (Lord of the Rings: The Two Towers, The)   \n",
       "1797077       (Star Wars: Episode VI - Return of the Jedi)   \n",
       "1435267   (Star Wars: Episode V - The Empire Strikes Back)   \n",
       "702968                                       (Matrix, The)   \n",
       "3122048   (Star Wars: Episode V - The Empire Strikes Back)   \n",
       "2152430                                      (Matrix, The)   \n",
       "1816676   (Star Wars: Episode V - The Empire Strikes Back)   \n",
       "3165626   (Star Wars: Episode V - The Empire Strikes Back)   \n",
       "1941379       (Star Wars: Episode VI - Return of the Jedi)   \n",
       "1032017               (Star Wars: Episode IV - A New Hope)   \n",
       "2826685                                      (Matrix, The)   \n",
       "2152492                                      (Matrix, The)   \n",
       "2555876           (Lord of the Rings: The Two Towers, The)   \n",
       "1371798       (Star Wars: Episode VI - Return of the Jedi)   \n",
       "3224853  (Star Wars: Episode V - The Empire Strikes Bac...   \n",
       "702938                                       (Matrix, The)   \n",
       "2152369                                      (Matrix, The)   \n",
       "1511802               (Star Wars: Episode IV - A New Hope)   \n",
       "702999                                       (Matrix, The)   \n",
       "3122170                       (Terminator 2: Judgment Day)   \n",
       "2997960   (Star Wars: Episode V - The Empire Strikes Back)   \n",
       "2556012  (Lord of the Rings: The Return of the King, Th...   \n",
       "2556004   (Lord of the Rings: The Return of the King, The)   \n",
       "2826810                                      (Matrix, The)   \n",
       "1816672               (Star Wars: Episode IV - A New Hope)   \n",
       "...                                                    ...   \n",
       "1702527  (Pulp Fiction, Fight Club, American Beauty, Sh...   \n",
       "1061887  (Matrix, The, Reservoir Dogs, Fight Club, Lord...   \n",
       "2966983  (Pulp Fiction, Terminator, The, Star Wars: Epi...   \n",
       "1237685  (Star Wars: Episode IV - A New Hope, Star Wars...   \n",
       "3073065  (Star Wars: Episode V - The Empire Strikes Bac...   \n",
       "2251413  (Toy Story, Jurassic Park, Lord of the Rings: ...   \n",
       "2250051  (Pulp Fiction, True Lies, Jurassic Park, Speed...   \n",
       "2250113  (Pulp Fiction, True Lies, Jurassic Park, Lion ...   \n",
       "1800899  (Terminator, The, Back to the Future, Star War...   \n",
       "2250237  (Star Wars: Episode V - The Empire Strikes Bac...   \n",
       "1062781  (Fight Club, Star Wars: Episode VI - Return of...   \n",
       "1062751  (Star Wars: Episode IV - A New Hope, Fight Clu...   \n",
       "1062721  (Pulp Fiction, Fight Club, Minority Report, Lo...   \n",
       "2967235  (Pulp Fiction, Terminator, The, Independence D...   \n",
       "826997   (Terminator, The, Back to the Future, Toy Stor...   \n",
       "826967   (Terminator, The, Back to the Future, Toy Stor...   \n",
       "3041985  (Pulp Fiction, Star Wars: Episode V - The Empi...   \n",
       "826877   (Terminator, The, Back to the Future, Toy Stor...   \n",
       "2250917  (Shrek, Jurassic Park, Lord of the Rings: The ...   \n",
       "1190545  (Pulp Fiction, Gladiator, Star Wars: Episode I...   \n",
       "3247433  (Star Wars: Episode V - The Empire Strikes Bac...   \n",
       "1279007  (Pulp Fiction, Star Wars: Episode VI - Return ...   \n",
       "1758809  (True Lies, Batman, Fugitive, The, Apollo 13, ...   \n",
       "2251227  (Pulp Fiction, Jurassic Park, Star Wars: Episo...   \n",
       "1190575  (Pulp Fiction, Gladiator, Star Wars: Episode V...   \n",
       "1702717  (Pulp Fiction, Fight Club, Seven (a.k.a. Se7en...   \n",
       "1062423  (Matrix, The, Fight Club, X-Men, Lord of the R...   \n",
       "1237655  (Star Wars: Episode V - The Empire Strikes Bac...   \n",
       "402275   (Fugitive, The, Shawshank Redemption, The, Pre...   \n",
       "2235639  (Sixth Sense, The, Star Wars: Episode V - The ...   \n",
       "\n",
       "         antecedent support  consequent support   support  confidence  \\\n",
       "2509288            0.113115            0.411475  0.113115     1.00000   \n",
       "3224844            0.100000            0.286885  0.100000     1.00000   \n",
       "2555942            0.100000            0.303279  0.100000     1.00000   \n",
       "776345             0.104918            0.455738  0.104918     1.00000   \n",
       "1653386            0.100000            0.539344  0.100000     1.00000   \n",
       "2555938            0.100000            0.308197  0.100000     1.00000   \n",
       "1797077            0.101639            0.321311  0.101639     1.00000   \n",
       "1435267            0.101639            0.345902  0.101639     1.00000   \n",
       "702968             0.100000            0.455738  0.100000     1.00000   \n",
       "3122048            0.106557            0.345902  0.106557     1.00000   \n",
       "2152430            0.113115            0.455738  0.113115     1.00000   \n",
       "1816676            0.103279            0.345902  0.103279     1.00000   \n",
       "3165626            0.104918            0.345902  0.104918     1.00000   \n",
       "1941379            0.103279            0.321311  0.103279     1.00000   \n",
       "1032017            0.104918            0.411475  0.104918     1.00000   \n",
       "2826685            0.101639            0.455738  0.101639     1.00000   \n",
       "2152492            0.104918            0.455738  0.104918     1.00000   \n",
       "2555876            0.109836            0.308197  0.109836     1.00000   \n",
       "1371798            0.104918            0.321311  0.104918     1.00000   \n",
       "3224853            0.100000            0.311475  0.100000     1.00000   \n",
       "702938             0.104918            0.455738  0.104918     1.00000   \n",
       "2152369            0.119672            0.455738  0.119672     1.00000   \n",
       "1511802            0.113115            0.411475  0.113115     1.00000   \n",
       "702999             0.100000            0.455738  0.100000     1.00000   \n",
       "3122170            0.108197            0.367213  0.108197     1.00000   \n",
       "2997960            0.109836            0.345902  0.109836     1.00000   \n",
       "2556012            0.101639            0.263934  0.101639     1.00000   \n",
       "2556004            0.101639            0.303279  0.101639     1.00000   \n",
       "2826810            0.100000            0.455738  0.100000     1.00000   \n",
       "1816672            0.103279            0.411475  0.103279     1.00000   \n",
       "...                     ...                 ...       ...         ...   \n",
       "1702527            0.539344            0.113115  0.100000     0.18541   \n",
       "1061887            0.539344            0.111475  0.100000     0.18541   \n",
       "2966983            0.539344            0.109836  0.100000     0.18541   \n",
       "1237685            0.539344            0.113115  0.100000     0.18541   \n",
       "3073065            0.539344            0.108197  0.100000     0.18541   \n",
       "2251413            0.539344            0.101639  0.100000     0.18541   \n",
       "2250051            0.539344            0.103279  0.100000     0.18541   \n",
       "2250113            0.539344            0.104918  0.100000     0.18541   \n",
       "1800899            0.539344            0.113115  0.100000     0.18541   \n",
       "2250237            0.539344            0.106557  0.100000     0.18541   \n",
       "1062781            0.539344            0.104918  0.100000     0.18541   \n",
       "1062751            0.539344            0.108197  0.100000     0.18541   \n",
       "1062721            0.539344            0.103279  0.100000     0.18541   \n",
       "2967235            0.539344            0.108197  0.100000     0.18541   \n",
       "826997             0.539344            0.108197  0.100000     0.18541   \n",
       "826967             0.539344            0.106557  0.100000     0.18541   \n",
       "3041985            0.539344            0.108197  0.100000     0.18541   \n",
       "826877             0.539344            0.109836  0.100000     0.18541   \n",
       "2250917            0.539344            0.103279  0.100000     0.18541   \n",
       "1190545            0.539344            0.103279  0.100000     0.18541   \n",
       "3247433            0.539344            0.104918  0.100000     0.18541   \n",
       "1279007            0.539344            0.106557  0.100000     0.18541   \n",
       "1758809            0.539344            0.111475  0.100000     0.18541   \n",
       "2251227            0.539344            0.101639  0.100000     0.18541   \n",
       "1190575            0.539344            0.103279  0.100000     0.18541   \n",
       "1702717            0.539344            0.113115  0.100000     0.18541   \n",
       "1062423            0.539344            0.108197  0.100000     0.18541   \n",
       "1237655            0.539344            0.111475  0.100000     0.18541   \n",
       "402275             0.539344            0.101639  0.100000     0.18541   \n",
       "2235639            0.539344            0.108197  0.100000     0.18541   \n",
       "\n",
       "             lift  leverage  conviction  \n",
       "2509288  2.430279  0.066571         inf  \n",
       "3224844  3.485714  0.071311         inf  \n",
       "2555942  3.297297  0.069672         inf  \n",
       "776345   2.194245  0.057103         inf  \n",
       "1653386  1.854103  0.046066         inf  \n",
       "2555938  3.244681  0.069180         inf  \n",
       "1797077  3.112245  0.068981         inf  \n",
       "1435267  2.890995  0.066482         inf  \n",
       "702968   2.194245  0.054426         inf  \n",
       "3122048  2.890995  0.069699         inf  \n",
       "2152430  2.194245  0.061564         inf  \n",
       "1816676  2.890995  0.067554         inf  \n",
       "3165626  2.890995  0.068627         inf  \n",
       "1941379  3.112245  0.070094         inf  \n",
       "1032017  2.430279  0.061747         inf  \n",
       "2826685  2.194245  0.055318         inf  \n",
       "2152492  2.194245  0.057103         inf  \n",
       "2555876  3.244681  0.075985         inf  \n",
       "1371798  3.112245  0.071207         inf  \n",
       "3224853  3.210526  0.068852         inf  \n",
       "702938   2.194245  0.057103         inf  \n",
       "2152369  2.194245  0.065133         inf  \n",
       "1511802  2.430279  0.066571         inf  \n",
       "702999   2.194245  0.054426         inf  \n",
       "3122170  2.723214  0.068465         inf  \n",
       "2997960  2.890995  0.071844         inf  \n",
       "2556012  3.788820  0.074813         inf  \n",
       "2556004  3.297297  0.070814         inf  \n",
       "2826810  2.194245  0.054426         inf  \n",
       "1816672  2.430279  0.060782         inf  \n",
       "...           ...       ...         ...  \n",
       "1702527  1.639135  0.038992    1.088751  \n",
       "1061887  1.663240  0.039876    1.090763  \n",
       "2966983  1.688064  0.040761    1.092776  \n",
       "1237685  1.639135  0.038992    1.088751  \n",
       "3073065  1.713641  0.041645    1.094788  \n",
       "2251413  1.824198  0.045181    1.102838  \n",
       "2250051  1.795243  0.044297    1.100826  \n",
       "2250113  1.767192  0.043413    1.098813  \n",
       "1800899  1.639135  0.038992    1.088751  \n",
       "2250237  1.740005  0.042529    1.096801  \n",
       "1062781  1.767192  0.043413    1.098813  \n",
       "1062751  1.713641  0.041645    1.094788  \n",
       "1062721  1.795243  0.044297    1.100826  \n",
       "2967235  1.713641  0.041645    1.094788  \n",
       "826997   1.713641  0.041645    1.094788  \n",
       "826967   1.740005  0.042529    1.096801  \n",
       "3041985  1.713641  0.041645    1.094788  \n",
       "826877   1.688064  0.040761    1.092776  \n",
       "2250917  1.795243  0.044297    1.100826  \n",
       "1190545  1.795243  0.044297    1.100826  \n",
       "3247433  1.767192  0.043413    1.098813  \n",
       "1279007  1.740005  0.042529    1.096801  \n",
       "1758809  1.663240  0.039876    1.090763  \n",
       "2251227  1.824198  0.045181    1.102838  \n",
       "1190575  1.795243  0.044297    1.100826  \n",
       "1702717  1.639135  0.038992    1.088751  \n",
       "1062423  1.713641  0.041645    1.094788  \n",
       "1237655  1.663240  0.039876    1.090763  \n",
       "402275   1.824198  0.045181    1.102838  \n",
       "2235639  1.713641  0.041645    1.094788  \n",
       "\n",
       "[3391500 rows x 9 columns]"
      ]
     },
     "execution_count": 18,
     "metadata": {},
     "output_type": "execute_result"
    }
   ],
   "source": [
    "# from the EDA above, we choose min_support = 0.1 and min_threshold 1.6 as the optimal point\n",
    "frequent_moviesets = apriori(df_apriori, min_support = 0.1, use_colnames = True)\n",
    "rules = association_rules(frequent_moviesets, metric = 'lift', min_threshold = 1.6)\n",
    "rules.sort_values('confidence', ascending = False) "
   ]
  },
  {
   "cell_type": "markdown",
   "metadata": {},
   "source": [
    "#### Simulation of Recommendation by Apriori Algorithm"
   ]
  },
  {
   "cell_type": "code",
   "execution_count": 46,
   "metadata": {
    "ExecuteTime": {
     "end_time": "2019-11-18T12:28:30.089000Z",
     "start_time": "2019-11-18T12:28:28.427000Z"
    }
   },
   "outputs": [
    {
     "name": "stdout",
     "output_type": "stream",
     "text": [
      "['Pulp Fiction', 'Back to the Future', 'Indiana Jones and the Last Crusade', 'Jurassic Park', 'Star Wars: Episode IV - A New Hope']\n"
     ]
    }
   ],
   "source": [
    "# creating \"basket\" of movies given a movie title (so we can recommend another movies to watch after a certain movie)\n",
    "watched = 'Toy Story '   # INPUT THE TITLE AND GIVE SPACE IN THE END\n",
    "\n",
    "dum = rules[rules['consequents'] == frozenset({watched})].sort_values(by = 'lift', ascending = False).head(5)\n",
    "dum['len'] = len(dum['antecedents'])\n",
    "\n",
    "for x in dum.sort_values(by = 'len').head(1)['antecedents'].apply(lambda x : list(x)).astype('unicode'):\n",
    "    print(x)"
   ]
  },
  {
   "cell_type": "markdown",
   "metadata": {},
   "source": [
    "So after a person watch Toy Story, based on the apriori algorithm, it's better to recommend him Jurassic Park, Pulp Fiction, Indiana Jones and the Last Crusade, Back to the Future, Star Wars : Episode IV - A New Hope"
   ]
  },
  {
   "cell_type": "markdown",
   "metadata": {},
   "source": [
    "### Collaborative Filtering"
   ]
  },
  {
   "cell_type": "markdown",
   "metadata": {},
   "source": [
    "#### Dataset Splitting\n",
    "Splitting dataset into two parts: training and test to validate the fitness of the model."
   ]
  },
  {
   "cell_type": "markdown",
   "metadata": {},
   "source": [
    "##### Splitting"
   ]
  },
  {
   "cell_type": "code",
   "execution_count": 13,
   "metadata": {
    "ExecuteTime": {
     "end_time": "2019-11-18T12:24:06.366000Z",
     "start_time": "2019-11-18T12:24:06.363000Z"
    }
   },
   "outputs": [],
   "source": [
    "from sklearn.model_selection import train_test_split"
   ]
  },
  {
   "cell_type": "code",
   "execution_count": 14,
   "metadata": {
    "ExecuteTime": {
     "end_time": "2019-11-18T12:24:06.578000Z",
     "start_time": "2019-11-18T12:24:06.368000Z"
    }
   },
   "outputs": [],
   "source": [
    "train_data, test_data = train_test_split(df, test_size=0.25, random_state = 42)"
   ]
  },
  {
   "cell_type": "code",
   "execution_count": 15,
   "metadata": {
    "ExecuteTime": {
     "end_time": "2019-11-18T12:24:06.710000Z",
     "start_time": "2019-11-18T12:24:06.578000Z"
    }
   },
   "outputs": [
    {
     "name": "stdout",
     "output_type": "stream",
     "text": [
      "Your train shape is: 77007 x 9\n",
      "Your test shape is: 25670 x 9\n"
     ]
    }
   ],
   "source": [
    "print('Your train shape is: %i x %i' %train_data.shape)\n",
    "print('Your test shape is: %i x %i' %test_data.shape)"
   ]
  },
  {
   "cell_type": "markdown",
   "metadata": {},
   "source": [
    "##### Rating Matrices\n",
    "Rating matrices contain the rating of each user (as rows) on each movie (as columns)."
   ]
  },
  {
   "cell_type": "code",
   "execution_count": 16,
   "metadata": {
    "ExecuteTime": {
     "end_time": "2019-11-18T12:24:07.796000Z",
     "start_time": "2019-11-18T12:24:06.716000Z"
    }
   },
   "outputs": [],
   "source": [
    "# Create two user-item matrices, one for training and another for testing\n",
    "# Matrix[new_user,new_movie] = rating\n",
    "train_data_matrix = np.zeros((n_users, n_movies))\n",
    "for line in train_data.itertuples():\n",
    "    train_data_matrix[line[-1]-1, line[-2]-1] = line[3]  \n",
    "\n",
    "test_data_matrix = np.zeros((n_users, n_movies))\n",
    "for line in test_data.itertuples():\n",
    "    test_data_matrix[line[-1]-1, line[-2]-1] = line[3]"
   ]
  },
  {
   "cell_type": "code",
   "execution_count": 90,
   "metadata": {
    "ExecuteTime": {
     "end_time": "2019-11-18T13:42:59.148000Z",
     "start_time": "2019-11-18T13:42:58.930000Z"
    }
   },
   "outputs": [
    {
     "data": {
      "text/plain": [
       "Pandas(Index=81600, userId=509, movieId=3301, rating=3.5, title='Whole Nine Yards, The', genres='Comedy|Crime', tag=nan, year='2000', movieId_new=2476, userId_new=508)"
      ]
     },
     "execution_count": 90,
     "metadata": {},
     "output_type": "execute_result"
    }
   ],
   "source": [
    "list(train_data.itertuples())[0]"
   ]
  },
  {
   "cell_type": "code",
   "execution_count": 17,
   "metadata": {
    "ExecuteTime": {
     "end_time": "2019-11-18T12:24:07.815000Z",
     "start_time": "2019-11-18T12:24:07.797000Z"
    }
   },
   "outputs": [
    {
     "name": "stdout",
     "output_type": "stream",
     "text": [
      "Your train data matrix is: 610 x 9724\n",
      "Your test data matrix is: 610 x 9724\n"
     ]
    }
   ],
   "source": [
    "print('Your train data matrix is: %i x %i' %train_data_matrix.shape)\n",
    "print('Your test data matrix is: %i x %i' %test_data_matrix.shape)"
   ]
  },
  {
   "cell_type": "markdown",
   "metadata": {
    "ExecuteTime": {
     "end_time": "2019-11-15T09:24:36.724000Z",
     "start_time": "2019-11-15T09:24:36.634000Z"
    }
   },
   "source": [
    "#### Non-Probabilistic"
   ]
  },
  {
   "cell_type": "markdown",
   "metadata": {},
   "source": [
    "##### Similarity Function\n",
    "The similarity function used in this notebook is **Cosine Similarity**. Cosine similiarity for users *k* and *a* can be calculated using the formula below, where you take dot product of  **the user** vector *$u_k$* and **the user** vector *$u_a$* and divide it by multiplication of the Euclidean lengths of the vectors.\n",
    "<img class=\"aligncenter size-thumbnail img-responsive\" src=\"https://latex.codecogs.com/gif.latex?s_u^{cos}(u_k,u_a)=\\frac{u_k&space;\\cdot&space;u_a&space;}{&space;\\left&space;\\|&space;u_k&space;\\right&space;\\|&space;\\left&space;\\|&space;u_a&space;\\right&space;\\|&space;}&space;=\\frac{\\sum&space;x_{k,m}x_{a,m}}{\\sqrt{\\sum&space;x_{k,m}^2\\sum&space;x_{a,m}^2}}\"/>\n",
    "\n",
    "To calculate similarity **between items** *m* and *b* you use the formula:\n",
    "\n",
    "<img class=\"aligncenter size-thumbnail img-responsive\" src=\"https://latex.codecogs.com/gif.latex?s_u^{cos}(i_m,i_b)=\\frac{i_m&space;\\cdot&space;i_b&space;}{&space;\\left&space;\\|&space;i_m&space;\\right&space;\\|&space;\\left&space;\\|&space;i_b&space;\\right&space;\\|&space;}&space;=\\frac{\\sum&space;x_{a,m}x_{a,b}}{\\sqrt{\\sum&space;x_{a,m}^2\\sum&space;x_{a,b}^2}}\n",
    "\"/>\n",
    "\n",
    "Further detail can be found on a course on Udemy, [here](https://www.udemy.com/course/python-for-data-science-and-machine-learning-bootcamp/)."
   ]
  },
  {
   "cell_type": "code",
   "execution_count": 20,
   "metadata": {
    "ExecuteTime": {
     "end_time": "2019-11-18T12:25:16.494000Z",
     "start_time": "2019-11-18T12:25:16.337000Z"
    }
   },
   "outputs": [],
   "source": [
    "from sklearn.metrics.pairwise import pairwise_distances"
   ]
  },
  {
   "cell_type": "code",
   "execution_count": 21,
   "metadata": {
    "ExecuteTime": {
     "end_time": "2019-11-18T12:25:17.027000Z",
     "start_time": "2019-11-18T12:25:16.499000Z"
    }
   },
   "outputs": [
    {
     "name": "stdout",
     "output_type": "stream",
     "text": [
      "Your train similarity matrix shape is: 610 x 610\n"
     ]
    }
   ],
   "source": [
    "train_similarity = pairwise_distances(train_data_matrix, metric='cosine')\n",
    "print('Your train similarity matrix shape is: %i x %i' %train_similarity.shape)"
   ]
  },
  {
   "cell_type": "code",
   "execution_count": 22,
   "metadata": {
    "ExecuteTime": {
     "end_time": "2019-11-18T12:25:17.177000Z",
     "start_time": "2019-11-18T12:25:17.030000Z"
    }
   },
   "outputs": [
    {
     "name": "stdout",
     "output_type": "stream",
     "text": [
      "Your test similarity matrix shape is: 610 x 610\n"
     ]
    }
   ],
   "source": [
    "test_similarity = pairwise_distances(test_data_matrix, metric='cosine')\n",
    "print('Your test similarity matrix shape is: %i x %i' %test_similarity.shape)"
   ]
  },
  {
   "cell_type": "markdown",
   "metadata": {},
   "source": [
    "##### User-Based\n",
    "To make a prediction, the next step is imputing the similarity matrices above to the equation below,\n",
    "\n",
    "<img class=\"aligncenter size-thumbnail img-responsive\" src=\"https://latex.codecogs.com/gif.latex?\\hat{x}_{k,m}&space;=&space;\\bar{x}_{k}&space;&plus;&space;\\frac{\\sum\\limits_{u_a}&space;sim_u(u_k,&space;u_a)&space;(x_{a,m}&space;-&space;\\bar{x_{u_a}})}{\\sum\\limits_{u_a}|sim_u(u_k,&space;u_a)|}\"/>\n",
    "\n",
    "where *k* and *m* represent the user *k-th* on item *m*. So that, we could compute the rating that users would make if they have already introduced each movie."
   ]
  },
  {
   "cell_type": "code",
   "execution_count": 23,
   "metadata": {
    "ExecuteTime": {
     "end_time": "2019-11-18T12:25:17.197000Z",
     "start_time": "2019-11-18T12:25:17.184000Z"
    }
   },
   "outputs": [],
   "source": [
    "def user_based_prediction(ratings, similarity):\n",
    "    mean_user_rating = ratings.mean(axis=1)\n",
    "    #You use np.newaxis so that mean_user_rating has same format as ratings\n",
    "    ratings_diff = (ratings - mean_user_rating[:, np.newaxis]) \n",
    "    pred = mean_user_rating[:, np.newaxis] + similarity.dot(ratings_diff) / np.array([np.abs(similarity).sum(axis=1)]).T\n",
    "    return pred"
   ]
  },
  {
   "cell_type": "code",
   "execution_count": 24,
   "metadata": {
    "ExecuteTime": {
     "end_time": "2019-11-18T12:25:17.656000Z",
     "start_time": "2019-11-18T12:25:17.203000Z"
    }
   },
   "outputs": [],
   "source": [
    "prediction = user_based_prediction(train_data_matrix, train_similarity)"
   ]
  },
  {
   "cell_type": "markdown",
   "metadata": {},
   "source": [
    "##### Model Evaluation"
   ]
  },
  {
   "cell_type": "code",
   "execution_count": 25,
   "metadata": {
    "ExecuteTime": {
     "end_time": "2019-11-18T12:25:17.664000Z",
     "start_time": "2019-11-18T12:25:17.658000Z"
    }
   },
   "outputs": [],
   "source": [
    "from sklearn.metrics import mean_squared_error\n",
    "from math import sqrt"
   ]
  },
  {
   "cell_type": "code",
   "execution_count": null,
   "metadata": {},
   "outputs": [],
   "source": [
    "def rmse(prediction, ground_truth):\n",
    "    prediction = prediction[ground_truth.nonzero()].flatten() \n",
    "    ground_truth = ground_truth[ground_truth.nonzero()].flatten()\n",
    "    return sqrt(mean_squared_error(prediction, ground_truth))"
   ]
  },
  {
   "cell_type": "code",
   "execution_count": 26,
   "metadata": {
    "ExecuteTime": {
     "end_time": "2019-11-18T12:25:17.935000Z",
     "start_time": "2019-11-18T12:25:17.672000Z"
    }
   },
   "outputs": [
    {
     "name": "stdout",
     "output_type": "stream",
     "text": [
      "User-based CF RMSE: 3.308396171594543\n"
     ]
    }
   ],
   "source": [
    "print('User-based CF RMSE: ' + str(rmse(prediction, test_data_matrix)))"
   ]
  },
  {
   "cell_type": "markdown",
   "metadata": {},
   "source": [
    "##### Item-Based\n",
    "The concept of item-based similar to the user-based except, we do not need to compare the ratings of the other users. Instead, we calculate the similarity between movies.\n",
    "\n",
    "<img class=\"aligncenter size-thumbnail img-responsive\" src=\"https://latex.codecogs.com/gif.latex?\\hat{x}_{k,m}&space;=&space;\\frac{\\sum\\limits_{i_b}&space;sim_i(i_m,&space;i_b)&space;(x_{k,b})&space;}{\\sum\\limits_{i_b}|sim_i(i_m,&space;i_b)|}\"/>\n"
   ]
  },
  {
   "cell_type": "markdown",
   "metadata": {},
   "source": [
    "##### Similarity Function"
   ]
  },
  {
   "cell_type": "code",
   "execution_count": 27,
   "metadata": {
    "ExecuteTime": {
     "end_time": "2019-11-18T12:25:20.147000Z",
     "start_time": "2019-11-18T12:25:17.938000Z"
    }
   },
   "outputs": [
    {
     "name": "stdout",
     "output_type": "stream",
     "text": [
      "Your train similarity matrix shape is: 9724 x 9724\n"
     ]
    }
   ],
   "source": [
    "train_similarity = pairwise_distances(train_data_matrix.T, metric='cosine')\n",
    "print('Your train similarity matrix shape is: %i x %i' %train_similarity.shape)"
   ]
  },
  {
   "cell_type": "code",
   "execution_count": 28,
   "metadata": {
    "ExecuteTime": {
     "end_time": "2019-11-18T12:25:22.420000Z",
     "start_time": "2019-11-18T12:25:20.147000Z"
    }
   },
   "outputs": [
    {
     "name": "stdout",
     "output_type": "stream",
     "text": [
      "Your test similarity matrix shape is: 9724 x 9724\n"
     ]
    }
   ],
   "source": [
    "test_similarity = pairwise_distances(test_data_matrix.T, metric='cosine')\n",
    "print('Your test similarity matrix shape is: %i x %i' %test_similarity.shape)"
   ]
  },
  {
   "cell_type": "code",
   "execution_count": 29,
   "metadata": {
    "ExecuteTime": {
     "end_time": "2019-11-18T12:25:22.440000Z",
     "start_time": "2019-11-18T12:25:22.420000Z"
    }
   },
   "outputs": [],
   "source": [
    "def item_based_prediction(ratings, similarity):\n",
    "    pred = ratings.dot(similarity) / np.array([np.abs(similarity).sum(axis=1)]) \n",
    "    return pred"
   ]
  },
  {
   "cell_type": "code",
   "execution_count": 30,
   "metadata": {
    "ExecuteTime": {
     "end_time": "2019-11-18T12:25:25.360000Z",
     "start_time": "2019-11-18T12:25:22.443000Z"
    }
   },
   "outputs": [],
   "source": [
    "prediction = item_based_prediction(train_data_matrix, train_similarity)"
   ]
  },
  {
   "cell_type": "markdown",
   "metadata": {},
   "source": [
    "##### Model Evaluation"
   ]
  },
  {
   "cell_type": "code",
   "execution_count": 32,
   "metadata": {
    "ExecuteTime": {
     "end_time": "2019-11-18T12:25:25.658000Z",
     "start_time": "2019-11-18T12:25:25.379000Z"
    }
   },
   "outputs": [
    {
     "name": "stdout",
     "output_type": "stream",
     "text": [
      "Item-based CF RMSE: 3.5272727600253333\n"
     ]
    }
   ],
   "source": [
    "print('Item-based CF RMSE: ' + str(rmse(prediction, test_data_matrix)))"
   ]
  },
  {
   "cell_type": "markdown",
   "metadata": {},
   "source": [
    "#### Singular Value Decomposition"
   ]
  },
  {
   "cell_type": "code",
   "execution_count": null,
   "metadata": {},
   "outputs": [],
   "source": [
    "import scipy.sparse as sp\n",
    "from scipy.sparse.linalg import svds"
   ]
  },
  {
   "cell_type": "markdown",
   "metadata": {},
   "source": [
    "##### Optimization of k-latent feature in SVD"
   ]
  },
  {
   "cell_type": "code",
   "execution_count": 98,
   "metadata": {
    "ExecuteTime": {
     "end_time": "2019-11-18T14:03:55.206000Z",
     "start_time": "2019-11-18T14:03:19.974000Z"
    }
   },
   "outputs": [
    {
     "data": {
      "application/vnd.jupyter.widget-view+json": {
       "model_id": "752c7fc69edd4297b62ae0c5d616ed70",
       "version_major": 2,
       "version_minor": 0
      },
      "text/plain": [
       "HBox(children=(IntProgress(value=0, max=49), HTML(value='')))"
      ]
     },
     "metadata": {},
     "output_type": "display_data"
    },
    {
     "name": "stdout",
     "output_type": "stream",
     "text": [
      "Best k value for Minimum RMSE: 10\n"
     ]
    },
    {
     "data": {
      "image/png": "[encoded data removed]",
      "text/plain": [
       "<Figure size 504x504 with 1 Axes>"
      ]
     },
     "metadata": {
      "needs_background": "light"
     },
     "output_type": "display_data"
    }
   ],
   "source": [
    "rmse_val = []\n",
    "min_rmse = 1000\n",
    "min_k = 0\n",
    "for k in tqdm(range(1,50)): # grid search for k\n",
    "    u, s, vt = svds(train_data_matrix, k = k)\n",
    "    s_diag_matrix = np.diag(s)\n",
    "    X_pred = np.dot(np.dot(u, s_diag_matrix), vt)\n",
    "    rmse_val.append(rmse(X_pred, test_data_matrix))\n",
    "    if rmse(X_pred, test_data_matrix) < min_rmse:\n",
    "        min_k = k\n",
    "        min_rmse = rmse(X_pred, test_data_matrix)\n",
    "    \n",
    "# checking the best number of clusters based on content of unwatched movie\n",
    "print('Best k value for Minimum RMSE: %i' %min_k)\n",
    "plt.figure(figsize = (7,7))\n",
    "plt.plot(range(1, 50), rmse_val)\n",
    "plt.title('Error function')\n",
    "plt.xlabel('Number of k')\n",
    "plt.ylabel('RMSE')\n",
    "plt.show()"
   ]
  },
  {
   "cell_type": "markdown",
   "metadata": {},
   "source": [
    "##### Optimal Result"
   ]
  },
  {
   "cell_type": "code",
   "execution_count": 99,
   "metadata": {
    "ExecuteTime": {
     "end_time": "2019-11-18T14:04:06.032000Z",
     "start_time": "2019-11-18T14:04:05.462000Z"
    }
   },
   "outputs": [
    {
     "name": "stdout",
     "output_type": "stream",
     "text": [
      "User-based CF MSE (using SVD): 2.9924246752476638\n"
     ]
    }
   ],
   "source": [
    "#get SVD components from train matrix. Choose k.\n",
    "u, s, vt = svds(train_data_matrix, k = 10)\n",
    "s_diag_matrix = np.diag(s)\n",
    "X_pred = np.dot(np.dot(u, s_diag_matrix), vt)\n",
    "\n",
    "print('User-based CF MSE (using SVD): ' + str(rmse(X_pred, test_data_matrix)))"
   ]
  },
  {
   "cell_type": "markdown",
   "metadata": {},
   "source": [
    "#### Simulation on Collaborative Filtering"
   ]
  },
  {
   "cell_type": "code",
   "execution_count": 100,
   "metadata": {
    "ExecuteTime": {
     "end_time": "2019-11-18T14:04:14.951000Z",
     "start_time": "2019-11-18T14:04:14.059000Z"
    }
   },
   "outputs": [
    {
     "data": {
      "application/vnd.jupyter.widget-view+json": {
       "model_id": "36b2607f0e934db6b1fd5a5671b9b560",
       "version_major": 2,
       "version_minor": 0
      },
      "text/plain": [
       "interactive(children=(Dropdown(description='user', options=(1, 2, 3, 4, 5, 6, 7, 8, 9, 10, 11, 12, 13, 14, 15,…"
      ]
     },
     "metadata": {},
     "output_type": "display_data"
    }
   ],
   "source": [
    "from ipywidgets import interact\n",
    "\n",
    "@interact\n",
    "def cf_suggestion(user=df['userId'].unique(), pred_method = ['user','item','svd'], num_to_suggest = 10 , return_values = False):\n",
    "    # Create two user-item matrices, one for training and another for testing\n",
    "    # Matrix[new_user_id,new_movie_id] = rating\n",
    "    n_users = df['userId'].nunique()\n",
    "    n_movies = df['movieId'].nunique()\n",
    "    data_matrix = np.zeros((n_users, n_movies))\n",
    "    for line in df.itertuples():\n",
    "        data_matrix[line[-1]-1, line[-2]-1] = line[3]\n",
    "    \n",
    "    # ratings calculation\n",
    "    if pred_method == 'user': # user-based\n",
    "        similarity_matrix = pairwise_distances(data_matrix, metric='cosine')\n",
    "        prediction_matrix = user_based_prediction(data_matrix, similarity_matrix)\n",
    "    elif pred_method == 'item': # item-based\n",
    "        similarity_matrix = pairwise_distances(data_matrix.T, metric='cosine')\n",
    "        prediction_matrix = item_based_prediction(data_matrix, similarity_matrix)\n",
    "    elif pred_method == 'svd': # svd\n",
    "        u, s, vt = svds(data_matrix, k = 10)\n",
    "        s_diag_matrix = np.diag(s)\n",
    "        prediction_matrix = np.dot(np.dot(u, s_diag_matrix), vt)\n",
    "    \n",
    "    # rating for all movies by the user\n",
    "    ranks_from_user = prediction_matrix[user - 1,:]\n",
    "    \n",
    "    # creating movie list\n",
    "    pred_movie_list = movie_list.copy()\n",
    "    pred_movie_list['real_review'] = data_matrix[user - 1,:]\n",
    "    pred_movie_list['pred_review'] = ranks_from_user\n",
    "    \n",
    "    # sorting predicted movie list\n",
    "    pred_movie_list.sort_values(by = 'pred_review', ascending = False, inplace=True)\n",
    "    pred_movie_list.reset_index(inplace = True)\n",
    "    \n",
    "    # listed 10 not yet reviewed movies\n",
    "    to_suggest = pred_movie_list.loc[pred_movie_list['real_review'] == 0,'title'][:num_to_suggest].values\n",
    "    print('Your movie top %i suggestions are: \\n' %num_to_suggest)\n",
    "    for movie in to_suggest:\n",
    "        print(movie)\n",
    "    \n",
    "    if return_values:\n",
    "        return to_suggest"
   ]
  },
  {
   "cell_type": "markdown",
   "metadata": {},
   "source": [
    "### Content-Based"
   ]
  },
  {
   "cell_type": "markdown",
   "metadata": {},
   "source": [
    "#### Data Preparation"
   ]
  },
  {
   "cell_type": "code",
   "execution_count": 35,
   "metadata": {
    "ExecuteTime": {
     "end_time": "2019-11-18T12:25:28.169000Z",
     "start_time": "2019-11-18T12:25:27.050000Z"
    }
   },
   "outputs": [],
   "source": [
    "# preparing data for content based\n",
    "additional_source = 'https://raw.githubusercontent.com/ranggarppb/movie_recommendation_netflix/master/movie_metadata.csv'\n",
    "movie_data = pd.read_csv(additional_source)\n",
    "\n",
    "movie_data.drop(['director_name','actor_2_name','genres','actor_1_name','actor_3_name','movie_imdb_link','title_year','plot_keywords'], axis = 1, inplace = True)\n",
    "movie_data.dropna(axis = 0, inplace = True)\n",
    "movie_data['movie_title'] = movie_data['movie_title'].str.strip()"
   ]
  },
  {
   "cell_type": "code",
   "execution_count": 36,
   "metadata": {
    "ExecuteTime": {
     "end_time": "2019-11-18T12:25:30.122000Z",
     "start_time": "2019-11-18T12:25:28.172000Z"
    }
   },
   "outputs": [],
   "source": [
    "df_content_based = df.copy()\n",
    "df_content_based = df_content_based.rename(columns = {'title' : 'movie_title'})\n",
    "df_content_based['genres'] = df_content_based['genres'].str.replace('|',' ')\n",
    "df_content_based['genres'] = df_content_based['genres'].str.split(' ').str.get(0)\n",
    "del df_content_based['tag']\n",
    "df_content_based = pd.merge(df_content_based,movie_data, on = 'movie_title', how = 'left').dropna(axis = 0)\n",
    "df_content_based.drop_duplicates(subset = ['userId','movieId','rating'], inplace = True)\n",
    "df_content_based['year'] = df_content_based['year'].astype(str)\n",
    "df_content_based = pd.get_dummies(df_content_based, columns = ['genres','color','language','country','content_rating'])"
   ]
  },
  {
   "cell_type": "code",
   "execution_count": 37,
   "metadata": {
    "ExecuteTime": {
     "end_time": "2019-11-18T12:25:30.150000Z",
     "start_time": "2019-11-18T12:25:30.124000Z"
    }
   },
   "outputs": [
    {
     "data": {
      "text/html": [
       "<div>\n",
       "<style scoped>\n",
       "    .dataframe tbody tr th:only-of-type {\n",
       "        vertical-align: middle;\n",
       "    }\n",
       "\n",
       "    .dataframe tbody tr th {\n",
       "        vertical-align: top;\n",
       "    }\n",
       "\n",
       "    .dataframe thead th {\n",
       "        text-align: right;\n",
       "    }\n",
       "</style>\n",
       "<table border=\"1\" class=\"dataframe\">\n",
       "  <thead>\n",
       "    <tr style=\"text-align: right;\">\n",
       "      <th></th>\n",
       "      <th>userId</th>\n",
       "      <th>movieId</th>\n",
       "      <th>rating</th>\n",
       "      <th>movie_title</th>\n",
       "      <th>year</th>\n",
       "      <th>movieId_new</th>\n",
       "      <th>userId_new</th>\n",
       "      <th>num_critic_for_reviews</th>\n",
       "      <th>duration</th>\n",
       "      <th>director_facebook_likes</th>\n",
       "      <th>...</th>\n",
       "      <th>content_rating_GP</th>\n",
       "      <th>content_rating_M</th>\n",
       "      <th>content_rating_NC-17</th>\n",
       "      <th>content_rating_Not Rated</th>\n",
       "      <th>content_rating_PG</th>\n",
       "      <th>content_rating_PG-13</th>\n",
       "      <th>content_rating_Passed</th>\n",
       "      <th>content_rating_R</th>\n",
       "      <th>content_rating_Unrated</th>\n",
       "      <th>content_rating_X</th>\n",
       "    </tr>\n",
       "  </thead>\n",
       "  <tbody>\n",
       "    <tr>\n",
       "      <th>0</th>\n",
       "      <td>1</td>\n",
       "      <td>1</td>\n",
       "      <td>4.0</td>\n",
       "      <td>Toy Story</td>\n",
       "      <td>1995</td>\n",
       "      <td>0</td>\n",
       "      <td>0</td>\n",
       "      <td>166.0</td>\n",
       "      <td>74.0</td>\n",
       "      <td>487.0</td>\n",
       "      <td>...</td>\n",
       "      <td>0</td>\n",
       "      <td>0</td>\n",
       "      <td>0</td>\n",
       "      <td>0</td>\n",
       "      <td>0</td>\n",
       "      <td>0</td>\n",
       "      <td>0</td>\n",
       "      <td>0</td>\n",
       "      <td>0</td>\n",
       "      <td>0</td>\n",
       "    </tr>\n",
       "    <tr>\n",
       "      <th>5</th>\n",
       "      <td>1</td>\n",
       "      <td>70</td>\n",
       "      <td>3.0</td>\n",
       "      <td>From Dusk Till Dawn</td>\n",
       "      <td>1996</td>\n",
       "      <td>62</td>\n",
       "      <td>0</td>\n",
       "      <td>165.0</td>\n",
       "      <td>108.0</td>\n",
       "      <td>0.0</td>\n",
       "      <td>...</td>\n",
       "      <td>0</td>\n",
       "      <td>0</td>\n",
       "      <td>0</td>\n",
       "      <td>0</td>\n",
       "      <td>0</td>\n",
       "      <td>0</td>\n",
       "      <td>0</td>\n",
       "      <td>1</td>\n",
       "      <td>0</td>\n",
       "      <td>0</td>\n",
       "    </tr>\n",
       "    <tr>\n",
       "      <th>6</th>\n",
       "      <td>1</td>\n",
       "      <td>101</td>\n",
       "      <td>5.0</td>\n",
       "      <td>Bottle Rocket</td>\n",
       "      <td>1996</td>\n",
       "      <td>89</td>\n",
       "      <td>0</td>\n",
       "      <td>83.0</td>\n",
       "      <td>91.0</td>\n",
       "      <td>0.0</td>\n",
       "      <td>...</td>\n",
       "      <td>0</td>\n",
       "      <td>0</td>\n",
       "      <td>0</td>\n",
       "      <td>0</td>\n",
       "      <td>0</td>\n",
       "      <td>0</td>\n",
       "      <td>0</td>\n",
       "      <td>1</td>\n",
       "      <td>0</td>\n",
       "      <td>0</td>\n",
       "    </tr>\n",
       "  </tbody>\n",
       "</table>\n",
       "<p>3 rows × 97 columns</p>\n",
       "</div>"
      ],
      "text/plain": [
       "   userId  movieId  rating          movie_title  year  movieId_new  \\\n",
       "0       1        1     4.0            Toy Story  1995            0   \n",
       "5       1       70     3.0  From Dusk Till Dawn  1996           62   \n",
       "6       1      101     5.0        Bottle Rocket  1996           89   \n",
       "\n",
       "   userId_new  num_critic_for_reviews  duration  director_facebook_likes  ...  \\\n",
       "0           0                   166.0      74.0                    487.0  ...   \n",
       "5           0                   165.0     108.0                      0.0  ...   \n",
       "6           0                    83.0      91.0                      0.0  ...   \n",
       "\n",
       "   content_rating_GP  content_rating_M  content_rating_NC-17  \\\n",
       "0                  0                 0                     0   \n",
       "5                  0                 0                     0   \n",
       "6                  0                 0                     0   \n",
       "\n",
       "   content_rating_Not Rated  content_rating_PG  content_rating_PG-13  \\\n",
       "0                         0                  0                     0   \n",
       "5                         0                  0                     0   \n",
       "6                         0                  0                     0   \n",
       "\n",
       "   content_rating_Passed  content_rating_R  content_rating_Unrated  \\\n",
       "0                      0                 0                       0   \n",
       "5                      0                 1                       0   \n",
       "6                      0                 1                       0   \n",
       "\n",
       "   content_rating_X  \n",
       "0                 0  \n",
       "5                 0  \n",
       "6                 0  \n",
       "\n",
       "[3 rows x 97 columns]"
      ]
     },
     "execution_count": 37,
     "metadata": {},
     "output_type": "execute_result"
    }
   ],
   "source": [
    "df_content_based.head(3)"
   ]
  },
  {
   "cell_type": "markdown",
   "metadata": {},
   "source": [
    "#### K-Means Clustering"
   ]
  },
  {
   "cell_type": "code",
   "execution_count": 38,
   "metadata": {
    "ExecuteTime": {
     "end_time": "2019-11-18T12:25:30.414000Z",
     "start_time": "2019-11-18T12:25:30.153000Z"
    }
   },
   "outputs": [],
   "source": [
    "# input userId\n",
    "userId = 1"
   ]
  },
  {
   "cell_type": "code",
   "execution_count": 39,
   "metadata": {
    "ExecuteTime": {
     "end_time": "2019-11-18T12:25:30.602000Z",
     "start_time": "2019-11-18T12:25:30.419000Z"
    }
   },
   "outputs": [],
   "source": [
    "# list of movie_title watched by userId\n",
    "col = [col for col in df_content_based.columns if col not in ['userId','movieId','movie_title','year']]\n",
    "user_movie = df_content_based[df_content_based['movie_title'].isin(list(df_content_based[df_content_based['userId'] == 1]['movie_title'].unique()))][col]"
   ]
  },
  {
   "cell_type": "code",
   "execution_count": 40,
   "metadata": {
    "ExecuteTime": {
     "end_time": "2019-11-18T12:25:30.753000Z",
     "start_time": "2019-11-18T12:25:30.603000Z"
    }
   },
   "outputs": [],
   "source": [
    "# list of mean of all content (numerical characteristic of the movie watched by the user)\n",
    "user_movie_mean = pd.DataFrame(user_movie.mean().to_dict(), index = [user_movie.index.values[-1]])"
   ]
  },
  {
   "cell_type": "code",
   "execution_count": 41,
   "metadata": {
    "ExecuteTime": {
     "end_time": "2019-11-18T12:25:30.997000Z",
     "start_time": "2019-11-18T12:25:30.755000Z"
    }
   },
   "outputs": [],
   "source": [
    "# getting another movie not yet watched by the userId\n",
    "col2 = [col for col in df_content_based.columns if col not in ['userId','movieId','year']]\n",
    "user_not_watched = user_movie = df_content_based[~df_content_based['movie_title'].isin(list(df_content_based[df_content_based['userId'] == 1]['movie_title'].unique()))][col2]"
   ]
  },
  {
   "cell_type": "code",
   "execution_count": 42,
   "metadata": {
    "ExecuteTime": {
     "end_time": "2019-11-18T12:26:08.568000Z",
     "start_time": "2019-11-18T12:25:30.999000Z"
    }
   },
   "outputs": [
    {
     "data": {
      "image/png": "[encoded data removed]",
      "text/plain": [
       "<Figure size 720x432 with 1 Axes>"
      ]
     },
     "metadata": {
      "needs_background": "light"
     },
     "output_type": "display_data"
    }
   ],
   "source": [
    "# checking the best number of clusters based on content of unwatched movie\n",
    "plt.figure(figsize = (10,6))\n",
    "wcss = []\n",
    "for i in range(1, 11):\n",
    "    kmeans = KMeans(n_clusters=i, init='k-means++', max_iter=300, n_init=10, random_state=0)\n",
    "    kmeans.fit(user_not_watched.drop('movie_title', axis = 1))\n",
    "    wcss.append(kmeans.inertia_)\n",
    "plt.plot(range(1, 11), wcss)\n",
    "plt.title('Elbow Method')\n",
    "plt.xlabel('Number of clusters')\n",
    "plt.ylabel('WCSS')\n",
    "plt.show()"
   ]
  },
  {
   "cell_type": "code",
   "execution_count": 43,
   "metadata": {
    "ExecuteTime": {
     "end_time": "2019-11-18T12:26:14.532000Z",
     "start_time": "2019-11-18T12:26:08.570000Z"
    }
   },
   "outputs": [],
   "source": [
    "# choose 6 clusters\n",
    "kmeans = KMeans(n_clusters=6, max_iter=600, algorithm = 'auto')\n",
    "kmeans.fit(user_not_watched.drop('movie_title', axis = 1))\n",
    "idx = np.argsort(kmeans.cluster_centers_.sum(axis=1))\n",
    "lut = np.zeros_like(idx)\n",
    "lut[idx] = np.arange(6)\n",
    "user_not_watched['cluster'] = pd.DataFrame(lut[kmeans.labels_])\n",
    "user_not_watched.dropna(axis = 0,inplace = True)\n",
    "user_not_watched['cluster'] = user_not_watched['cluster'].astype(int)"
   ]
  },
  {
   "cell_type": "markdown",
   "metadata": {},
   "source": [
    "#### Simulation on Content-Based Filtering"
   ]
  },
  {
   "cell_type": "code",
   "execution_count": 44,
   "metadata": {
    "ExecuteTime": {
     "end_time": "2019-11-18T12:26:14.624000Z",
     "start_time": "2019-11-18T12:26:14.534000Z"
    }
   },
   "outputs": [],
   "source": [
    "# fitting the clustering to the movie watched by userId and get all movie in the unwatched movie which match with the cluster\n",
    "to_recommend = user_not_watched[user_not_watched['cluster'] == kmeans.predict(user_movie_mean)[0]]"
   ]
  },
  {
   "cell_type": "code",
   "execution_count": 45,
   "metadata": {
    "ExecuteTime": {
     "end_time": "2019-11-18T12:26:16.328000Z",
     "start_time": "2019-11-18T12:26:14.626000Z"
    }
   },
   "outputs": [
    {
     "name": "stdout",
     "output_type": "stream",
     "text": [
      "American Hustle\n",
      "Lethal Weapon 3\n",
      "We're the Millers\n",
      "Rambo: First Blood Part II\n",
      "Gran Torino\n"
     ]
    }
   ],
   "source": [
    "# choosing only 5 movies with closest Euclidian Distance to user_movie_mean\n",
    "def Euclidean_Dist(to_recommend, user_movie_mean, cols=[col for col in to_recommend.columns if col not in ['cluster','movie_title']]):\n",
    "    return np.linalg.norm(to_recommend[cols].values - user_movie_mean[cols].values,\n",
    "                   axis=1)\n",
    "to_recommend['dist'] = Euclidean_Dist(to_recommend, pd.concat([user_movie_mean]*len(to_recommend), ignore_index = True))\n",
    "\n",
    "for x in list(to_recommend.sort_values(by = 'dist')['movie_title'].unique()[0:5]) :\n",
    "    print(x)"
   ]
  },
  {
   "cell_type": "markdown",
   "metadata": {},
   "source": [
    "#### Visualization\n",
    "PCA is meant to reduce the dimension of the dataset for content-based filtering. **However,** the minimum number of component to explain most of variance (at least 80%) is more than 2. Therefore, **it is not possible** to plot only the component 1 and 2 since it will only explain less than 50% of dataset variance."
   ]
  },
  {
   "cell_type": "code",
   "execution_count": 55,
   "metadata": {
    "ExecuteTime": {
     "end_time": "2019-11-18T12:51:10.432000Z",
     "start_time": "2019-11-18T12:51:10.422000Z"
    }
   },
   "outputs": [],
   "source": [
    "from sklearn.decomposition import PCA\n",
    "from sklearn.preprocessing import MinMaxScaler"
   ]
  },
  {
   "cell_type": "code",
   "execution_count": 66,
   "metadata": {
    "ExecuteTime": {
     "end_time": "2019-11-18T12:54:08.034000Z",
     "start_time": "2019-11-18T12:54:08.027000Z"
    }
   },
   "outputs": [],
   "source": [
    "pca = PCA()"
   ]
  },
  {
   "cell_type": "code",
   "execution_count": 67,
   "metadata": {
    "ExecuteTime": {
     "end_time": "2019-11-18T12:54:09.170000Z",
     "start_time": "2019-11-18T12:54:09.089000Z"
    }
   },
   "outputs": [],
   "source": [
    "scaler = MinMaxScaler(feature_range=[0, 1])\n",
    "data_rescaled = scaler.fit_transform(user_not_watched.drop('movie_title', axis = 1))"
   ]
  },
  {
   "cell_type": "code",
   "execution_count": 68,
   "metadata": {
    "ExecuteTime": {
     "end_time": "2019-11-18T12:54:09.930000Z",
     "start_time": "2019-11-18T12:54:09.501000Z"
    }
   },
   "outputs": [
    {
     "data": {
      "text/plain": [
       "PCA(copy=True, iterated_power='auto', n_components=None, random_state=None,\n",
       "  svd_solver='auto', tol=0.0, whiten=False)"
      ]
     },
     "execution_count": 68,
     "metadata": {},
     "output_type": "execute_result"
    }
   ],
   "source": [
    "pca.fit(data_rescaled)"
   ]
  },
  {
   "cell_type": "code",
   "execution_count": 70,
   "metadata": {
    "ExecuteTime": {
     "end_time": "2019-11-18T12:55:28.513000Z",
     "start_time": "2019-11-18T12:55:28.330000Z"
    }
   },
   "outputs": [
    {
     "data": {
      "image/png": "[encoded data removed]",
      "text/plain": [
       "<Figure size 504x504 with 1 Axes>"
      ]
     },
     "metadata": {
      "needs_background": "light"
     },
     "output_type": "display_data"
    }
   ],
   "source": [
    "#Plotting the Cumulative Summation of the Explained Variance\n",
    "plt.figure(figsize = (7,7))\n",
    "plt.plot(np.cumsum(pca.explained_variance_ratio_))\n",
    "plt.xlabel('Number of Components')\n",
    "plt.ylabel('Variance (%)') #for each component\n",
    "plt.title('Movie Dataset Explained Variance')\n",
    "plt.show()"
   ]
  },
  {
   "cell_type": "markdown",
   "metadata": {},
   "source": [
    "### Hybrid"
   ]
  },
  {
   "cell_type": "code",
   "execution_count": 104,
   "metadata": {
    "ExecuteTime": {
     "end_time": "2019-11-18T15:14:03.423000Z",
     "start_time": "2019-11-18T15:14:01.383000Z"
    }
   },
   "outputs": [],
   "source": [
    "# listing all the movie from content based method and preparing the data for creating the matrix for collaboration filtering\n",
    "to_recommend = user_not_watched[user_not_watched['cluster'] == kmeans.predict(user_movie_mean)[0]]\n",
    "to_recommend['dist'] = Euclidean_Dist(to_recommend, pd.concat([user_movie_mean]*len(to_recommend), ignore_index = True))\n",
    "list_movie_content = list(to_recommend.sort_values(by = 'dist')['movie_title'].unique())"
   ]
  },
  {
   "cell_type": "code",
   "execution_count": 106,
   "metadata": {
    "ExecuteTime": {
     "end_time": "2019-11-18T15:15:43.683000Z",
     "start_time": "2019-11-18T15:15:42.864000Z"
    },
    "scrolled": true
   },
   "outputs": [
    {
     "name": "stdout",
     "output_type": "stream",
     "text": [
      "Your movie top 100 suggestions are: \n",
      "\n",
      "Someone to Watch Over Me \n",
      "Pyromaniac's Love Story, A \n",
      "Flintstones, The \n",
      "Tin Cup \n",
      "Batman \n",
      "When Night Is Falling \n",
      "Savage Nights (Nuits fauves, Les) \n",
      "Walk on the Moon, A \n",
      "Drag Me to Hell \n",
      "Girl with a Pearl Earring \n",
      "Third Man, The \n",
      "In the Electric Mist \n",
      "Princess (Prinsessa) \n",
      "Yellow Submarine \n",
      "Paris Is Burning \n",
      "Vampires \n",
      "How to Make an American Quilt \n",
      "Radio Day \n",
      "Prom Night \n",
      "Children of Huang Shi, The \n",
      "Alice \n",
      "Morvern Callar \n",
      "About Last Night \n",
      "DeadHeads \n",
      "Quicksilver \n",
      "Kate & Leopold \n",
      "Meet the Parents \n",
      "Dawn of the Dead \n",
      "Charlie Bartlett \n",
      "Quo Vadis \n",
      "Northanger Abbey \n",
      "Purge: Anarchy, The \n",
      "Candyman: Farewell to the Flesh \n",
      "Fantastic Four \n",
      "Whiplash \n",
      "Perfect Getaway, A \n",
      "Dish, The \n",
      "Doubt \n",
      "Jane Austen's Mafia! \n",
      "Massu Engira Maasilamani \n",
      "Children of Men \n",
      "Nativity Story, The \n",
      "Blues Brothers, The \n",
      "Tell No One (Ne le dis à personne) \n",
      "Diving Bell and the Butterfly, The (Scaphandre et le papillon, Le) \n",
      "Road, The \n",
      "King of California \n",
      "It's Complicated \n",
      "Sidewalls (Medianeras) \n",
      "Shooting Dogs (a.k.a. Beyond the Gates) \n",
      "Harry Potter and the Deathly Hallows: Part 1 \n",
      "Respiro \n",
      "National Security \n",
      "Better Than Sex \n",
      "A Million Ways to Die in the West \n",
      "Dirty Dancing \n",
      "Majestic, The \n",
      "Deuce Bigalow: Male Gigolo \n",
      "Ask the Dust \n",
      "A-Team, The \n",
      "Duck Amuck \n",
      "Trip, The \n",
      "Take Aim at the Police Van (Sono gosôsha wo nerae: 'Jûsangô taihisen' yori) \n",
      "Garfield's Pet Force \n",
      "Sin Nombre \n",
      "Contagion \n",
      "Good Luck Chuck \n",
      "Spirits of the Dead \n",
      "Brewster's Millions \n",
      "Hellboy II: The Golden Army \n",
      "Monte Carlo \n",
      "Birth \n",
      "Orphanage, The (Orfanato, El) \n",
      "Expendables, The \n",
      "2001 Maniacs \n",
      "Kiss of Death \n",
      "Teahouse of the August Moon, The \n",
      "Aelita: The Queen of Mars (Aelita) \n",
      "Swimming Pool \n",
      "Megamind \n",
      "Rage of Honor \n",
      "Ruins, The \n",
      "Harry Potter and the Deathly Hallows: Part 2 \n",
      "OH in Ohio, The \n",
      "Cocaine Cowboys \n",
      "The Interview \n",
      "Princess Bride, The \n",
      "Wanderlust \n",
      "Snowman, The \n",
      "Captain America: The First Avenger \n",
      "After Hours \n",
      "King Arthur \n",
      "Secret Life of Walter Mitty, The \n",
      "Factory Girl \n",
      "Wreck-It Ralph \n",
      "Flowers of War, The (Jin líng shí san chai) \n",
      "Amateur \n",
      "Moscow on the Hudson \n",
      "Bourne Legacy, The \n",
      "Lawrence of Arabia \n"
     ]
    }
   ],
   "source": [
    "to_suggest = cf_suggestion(userId, pred_method = 'svd', num_to_suggest = 100, return_values = True)\n",
    "to_suggest = list(to_suggest)\n",
    "to_suggest = [x.strip() for x in to_suggest]"
   ]
  },
  {
   "cell_type": "markdown",
   "metadata": {},
   "source": [
    "#### Simulation on Hybrid Method"
   ]
  },
  {
   "cell_type": "code",
   "execution_count": 107,
   "metadata": {
    "ExecuteTime": {
     "end_time": "2019-11-18T15:15:54.302000Z",
     "start_time": "2019-11-18T15:15:54.256000Z"
    }
   },
   "outputs": [
    {
     "name": "stdout",
     "output_type": "stream",
     "text": [
      "Your movie suggestions based on Hybrid Method are: \n",
      "Tin Cup\n",
      "Drag Me to Hell\n",
      "Prom Night\n",
      "Kate & Leopold\n",
      "Meet the Parents\n",
      "Dawn of the Dead\n",
      "Fantastic Four\n",
      "Whiplash\n",
      "Doubt\n",
      "Children of Men\n",
      "It's Complicated\n",
      "A Million Ways to Die in the West\n",
      "Deuce Bigalow: Male Gigolo\n",
      "Contagion\n",
      "Good Luck Chuck\n",
      "Hellboy II: The Golden Army\n",
      "Kiss of Death\n",
      "Megamind\n",
      "The Interview\n",
      "Captain America: The First Avenger\n",
      "Wreck-It Ralph\n",
      "Lawrence of Arabia\n"
     ]
    }
   ],
   "source": [
    "print('Your movie suggestions based on Hybrid Method are: ')\n",
    "for x in to_suggest :\n",
    "    if x in list_movie_content :\n",
    "        print(x)"
   ]
  },
  {
   "cell_type": "code",
   "execution_count": null,
   "metadata": {},
   "outputs": [],
   "source": []
  }
 ],
 "metadata": {
  "kernelspec": {
   "display_name": "Python 3",
   "language": "python",
   "name": "python3"
  },
  "language_info": {
   "codemirror_mode": {
    "name": "ipython",
    "version": 3
   },
   "file_extension": ".py",
   "mimetype": "text/x-python",
   "name": "python",
   "nbconvert_exporter": "python",
   "pygments_lexer": "ipython3",
   "version": "3.7.3"
  },
  "toc": {
   "base_numbering": 1,
   "nav_menu": {},
   "number_sections": true,
   "sideBar": true,
   "skip_h1_title": false,
   "title_cell": "Table of Contents",
   "title_sidebar": "Contents",
   "toc_cell": false,
   "toc_position": {
    "height": "calc(100% - 180px)",
    "left": "10px",
    "top": "150px",
    "width": "183.188px"
   },
   "toc_section_display": true,
   "toc_window_display": true
  }
 },
 "nbformat": 4,
 "nbformat_minor": 2
}
